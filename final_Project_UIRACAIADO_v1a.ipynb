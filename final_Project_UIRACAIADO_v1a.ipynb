{
 "metadata": {
  "name": "",
  "signature": "sha256:1e28e455de16ad3c731ed3bc5942e7f16f02fc3c42371f63f7d31a68b4a2dad5"
 },
 "nbformat": 3,
 "nbformat_minor": 0,
 "worksheets": [
  {
   "cells": [
    {
     "cell_type": "markdown",
     "metadata": {},
     "source": [
      "\n",
      "\n",
      "\n",
      "\n",
      "\n",
      "# Data Wrangle OpenStreetMaps Data"
     ]
    },
    {
     "cell_type": "markdown",
     "metadata": {},
     "source": [
      "Blla bla bla1. \n",
      "\n",
      "Bla bla bla2 <a href=\"http://www.quora.com/How-do-you-explain-Machine-Learning-and-Data-Mining-to-non-Computer-Science-people\">some link</a> source of the link.\n",
      "\n",
      "Bla Bla Bla3. \n",
      "\n",
      "###subtitle1\n",
      "\n",
      "Bla Bla Bla1a. "
     ]
    },
    {
     "cell_type": "code",
     "collapsed": false,
     "input": [],
     "language": "python",
     "metadata": {},
     "outputs": []
    },
    {
     "cell_type": "markdown",
     "metadata": {},
     "source": [
      "<em>CSS Style</em>\n",
      "\n",
      "\n",
      "<style type=\"text/css\">\n",
      "    \n",
      "\n",
      "</style>\n",
      "\n",
      "\n",
      "<style type=\"text/css\">\n",
      "    table {\n",
      "\toverflow:hidden;\n",
      "    font-family: \"Lucida Sans Unicode\", \"Lucida Grande\", Sans-Serif;\n",
      "\tfont-size: 12px;\n",
      "\tmargin: 45px;\n",
      "\twidth: 480px;\n",
      "\ttext-align: left;\n",
      "\tborder-collapse: collapse;\n",
      "\tborder: 1px solid #d3d3d3;\n",
      "    -moz-border-radius:5px; FF1+;\n",
      "    -webkit-border-radius:5px; Saf3-4;\n",
      "    border-radius:5px;\n",
      "    -moz-box-shadow: 0 0 4px rgba(0, 0, 0, 0.01);    \n",
      "}\n",
      "th\n",
      "{\n",
      "\tpadding: 12px 17px 12px 17px;\n",
      "\tfont-weight: normal;\n",
      "\tfont-size: 14px;\n",
      "\tborder-bottom: 1px dashed #69c;\n",
      "}\n",
      "\n",
      "td\n",
      "{\n",
      "\tpadding: 7px 17px 7px 17px;\n",
      "\n",
      "}\n",
      "\n",
      "tbody tr:hover th\n",
      "{\n",
      "\n",
      "\tbackground:  #E9E9E9;\n",
      "}\n",
      "\n",
      "tbody tr:hover td\n",
      "{\n",
      "\n",
      "\tbackground:  #E9E9E9;\n",
      "}\n",
      "</style>"
     ]
    }
   ],
   "metadata": {}
  }
 ]
}
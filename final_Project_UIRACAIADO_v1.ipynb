{
 "metadata": {
  "name": "",
  "signature": "sha256:10fd06a2e652979eb562c4496eb3047260ab59c3f13252af7c4c06581086e84e"
 },
 "nbformat": 3,
 "nbformat_minor": 0,
 "worksheets": [
  {
   "cells": [
    {
     "cell_type": "markdown",
     "metadata": {},
     "source": [
      "\n",
      "\n",
      "\n",
      "\n",
      "\n",
      "# Data Wrangle OpenStreetMaps Data"
     ]
    },
    {
     "cell_type": "markdown",
     "metadata": {},
     "source": [
      "Blla bla bla1. \n",
      "\n",
      "Bla bla bla2 <a href=\"http://www.quora.com/How-do-you-explain-Machine-Learning-and-Data-Mining-to-non-Computer-Science-people\">some link</a> source of the link.\n",
      "\n",
      "Bla Bla Bla3. \n",
      "\n",
      "###subtitle1\n",
      "\n",
      "Bla Bla Bla1a. "
     ]
    },
    {
     "cell_type": "code",
     "collapsed": false,
     "input": [
      "filename='c:/Users/Vera/Dropbox/NEUTRINO/ALGO/DATA/sao-paulo_brazil.osm'\n",
      "filename='/Users/ucaiado/Dropbox/NEUTRINO/ALGO/DATA/sao-paulo_brazil.osm'\n",
      "filename='/Users/ucaiado/Documents/temp/map.osm-2.xml'"
     ],
     "language": "python",
     "metadata": {},
     "outputs": [],
     "prompt_number": 164
    },
    {
     "cell_type": "markdown",
     "metadata": {},
     "source": [
      "source: http://eli.thegreenplace.net/2012/03/15/processing-xml-in-python-with-elementtree\n",
      "\n",
      "regular - expression: http://en.wikipedia.org/wiki/Regular_expression\n",
      "\n",
      "How many streets there are in Sao Paulo: http://super.abril.com.br/cultura/quantas-ruas-existem-sao-paulo-444417.shtml"
     ]
    },
    {
     "cell_type": "code",
     "collapsed": false,
     "input": [
      "import xml.etree.cElementTree as ET\n",
      "import pprint\n",
      "\n",
      "def count_tags(filename):\n",
      "    # I had some issues with the original code regarding to memory usage\n",
      "    d={}\n",
      "    for event, elem in ET.iterparse(filename):\n",
      "        if event == 'end':\n",
      "            if elem.tag not in d: d[elem.tag]=1\n",
      "            else: d[elem.tag]+=1\n",
      "        elem.clear() # discard the element\n",
      "            \n",
      "    return d"
     ],
     "language": "python",
     "metadata": {},
     "outputs": [],
     "prompt_number": 165
    },
    {
     "cell_type": "code",
     "collapsed": false,
     "input": [
      "d=count_tags(filename)"
     ],
     "language": "python",
     "metadata": {},
     "outputs": [],
     "prompt_number": 166
    },
    {
     "cell_type": "code",
     "collapsed": false,
     "input": [
      "pprint.pprint(d)"
     ],
     "language": "python",
     "metadata": {},
     "outputs": [
      {
       "output_type": "stream",
       "stream": "stdout",
       "text": [
        "{'bounds': 1,\n",
        " 'member': 17412,\n",
        " 'nd': 68376,\n",
        " 'node': 51635,\n",
        " 'osm': 1,\n",
        " 'relation': 730,\n",
        " 'tag': 50932,\n",
        " 'way': 10203}\n"
       ]
      }
     ],
     "prompt_number": 167
    },
    {
     "cell_type": "code",
     "collapsed": false,
     "input": [],
     "language": "python",
     "metadata": {},
     "outputs": []
    },
    {
     "cell_type": "code",
     "collapsed": false,
     "input": [],
     "language": "python",
     "metadata": {},
     "outputs": []
    },
    {
     "cell_type": "code",
     "collapsed": false,
     "input": [
      "import xml.etree.cElementTree as ET\n",
      "import pprint\n",
      "import re\n",
      "\n",
      "lower = re.compile(r'^([a-z]|_)*$')\n",
      "lower_colon = re.compile(r'^([a-z]|_)*:([a-z]|_)*$')\n",
      "problemchars = re.compile(r'[=\\+/&<>;\\'\"\\?%#$@\\,\\. \\t\\r\\n]')\n",
      "\n",
      "\n",
      "def key_type(element, keys):\n",
      "    if element.tag == \"tag\":\n",
      "        # YOUR CODE HERE\n",
      "        s=element.attrib['k']\n",
      "        if problemchars.search(s): keys['problemchars']+=1 \n",
      "        elif lower_colon.search(s):keys['lower_colon']+=1\n",
      "        elif lower.search(s):keys['lower']+=1\n",
      "        else: keys['other']+=1\n",
      "\n",
      "        \n",
      "    return keys\n",
      "\n",
      "\n",
      "\n",
      "def process_map(filename):\n",
      "    keys = {\"lower\": 0, \"lower_colon\": 0, \"problemchars\": 0, \"other\": 0}\n",
      "    for _, element in ET.iterparse(filename):\n",
      "        keys = key_type(element, keys)\n",
      "        element.clear() # discard the element\n",
      "\n",
      "    return keys\n",
      "\n",
      "\n",
      "# You can use another testfile 'map.osm' to look at your solution\n",
      "# Note that the assertions will be incorrect then.\n",
      "keys = process_map(filename)"
     ],
     "language": "python",
     "metadata": {},
     "outputs": [],
     "prompt_number": 168
    },
    {
     "cell_type": "code",
     "collapsed": false,
     "input": [
      "pprint.pprint(keys)"
     ],
     "language": "python",
     "metadata": {},
     "outputs": [
      {
       "output_type": "stream",
       "stream": "stdout",
       "text": [
        "{'lower': 46544, 'lower_colon': 4307, 'other': 81, 'problemchars': 0}\n"
       ]
      }
     ],
     "prompt_number": 169
    },
    {
     "cell_type": "code",
     "collapsed": false,
     "input": [],
     "language": "python",
     "metadata": {},
     "outputs": []
    },
    {
     "cell_type": "code",
     "collapsed": false,
     "input": [],
     "language": "python",
     "metadata": {},
     "outputs": []
    },
    {
     "cell_type": "code",
     "collapsed": false,
     "input": [
      "import pprint\n",
      "import re\n",
      "\n",
      "def get_user(element,users):\n",
      "    if element.tag == \"node\":\n",
      "        # YOUR CODE HERE\n",
      "        users.add(element.attrib['uid'])\n",
      "\n",
      "        \n",
      "    return users\n",
      "\n",
      "\n",
      "def process_map(filename):\n",
      "    users = set()\n",
      "    for _, element in ET.iterparse(filename):\n",
      "        users= get_user(element,users)\n",
      "        element.clear() # discard the element\n",
      "\n",
      "    return users\n",
      "\n",
      "users = process_map(filename)\n",
      "\n"
     ],
     "language": "python",
     "metadata": {},
     "outputs": [],
     "prompt_number": 170
    },
    {
     "cell_type": "code",
     "collapsed": false,
     "input": [
      "print 'Unique Users that contributed to this map: {}'.format(len(users))"
     ],
     "language": "python",
     "metadata": {},
     "outputs": [
      {
       "output_type": "stream",
       "stream": "stdout",
       "text": [
        "Unique Users that contributed to this map: 368\n"
       ]
      }
     ],
     "prompt_number": 171
    },
    {
     "cell_type": "code",
     "collapsed": false,
     "input": [],
     "language": "python",
     "metadata": {},
     "outputs": []
    },
    {
     "cell_type": "code",
     "collapsed": false,
     "input": [],
     "language": "python",
     "metadata": {},
     "outputs": []
    },
    {
     "cell_type": "code",
     "collapsed": false,
     "input": [
      "import xml.etree.cElementTree as ET\n",
      "from collections import defaultdict\n",
      "import re\n",
      "import pprint\n",
      "\n",
      "OSMFILE = filename\n",
      "street_type_re = re.compile(r'([^\\s]+)', re.IGNORECASE)\n",
      "\n",
      "\n",
      "expected =['avenida',\"alameda\",'largo','travessa',u'pra\\xe7a', 'via','viaduto','viela', 'estrada', 'rodovia', 'rua']\n",
      "\n",
      "# UPDATE THIS VARIABLE\n",
      "mapping = {  'av': u'avenida',\n",
      "             'al': u\"alameda\",\n",
      "             'lgo': u'largo',\n",
      "             'praca': u'pra\\xe7a',\n",
      "             'r': u'rua',\n",
      "             'rd': u'rodovia'\n",
      "            }\n",
      "\n",
      "def audit_street_type(street_types, street_name):\n",
      "    m = street_type_re.search(street_name)\n",
      "    if m:\n",
      "        street_type = m.group().lower()\n",
      "        if street_type not in expected:\n",
      "            street_types[street_type].add(street_name)\n",
      "\n",
      "\n",
      "def is_street_name(elem):\n",
      "    return (((elem.attrib['k']).lower() == \"addr:street\") )\n",
      "\n",
      "\n",
      "def audit(osmfile):\n",
      "    osm_file = open(osmfile, \"r\")\n",
      "    street_types = defaultdict(set)\n",
      "    for event, elem in ET.iterparse(osm_file, events=(\"start\",)):\n",
      "\n",
      "        if elem.tag == \"node\" or elem.tag == \"way\":\n",
      "            for tag in elem.iter(\"tag\"):\n",
      "                if is_street_name(tag):\n",
      "                    audit_street_type(street_types, tag.attrib['v'])\n",
      "            elem.clear() # discard the element\n",
      "\n",
      "    return street_types\n",
      "\n",
      "\n",
      "def update_name(name, mapping):\n",
      "    s=name.split()[0].lower()\n",
      "    name=name[len(s):len(name)].lower().strip()\n",
      "    if '.' in s[-1]: s = s[:-1]\n",
      "    if s not in mapping: return None\n",
      "    name=(u\"{} {}\".format(mapping[s],name)).title() \n",
      "    return name\n",
      "\n",
      "\n",
      "def test():\n",
      "    st_types = audit(OSMFILE)\n",
      "    assert len(st_types) == 3\n",
      "    pprint.pprint(dict(st_types))\n",
      "\n",
      "    for st_type, ways in st_types.iteritems():\n",
      "        for name in ways:\n",
      "            better_name = update_name(name, mapping)\n",
      "            print name, \"=>\", better_name\n",
      "            if name == \"West Lexington St.\":\n",
      "                assert better_name == \"West Lexington Street\"\n",
      "            if name == \"Baldwin Rd.\":\n",
      "                assert better_name == \"Baldwin Road\""
     ],
     "language": "python",
     "metadata": {},
     "outputs": [],
     "prompt_number": 239
    },
    {
     "cell_type": "code",
     "collapsed": false,
     "input": [
      "st_types = audit(filename)"
     ],
     "language": "python",
     "metadata": {},
     "outputs": [],
     "prompt_number": 236
    },
    {
     "cell_type": "code",
     "collapsed": false,
     "input": [
      "pprint.pprint(dict(st_types))"
     ],
     "language": "python",
     "metadata": {},
     "outputs": [
      {
       "output_type": "stream",
       "stream": "stdout",
       "text": [
        "{'3': set(['3']),\n",
        " u'al.': set(['Al. Barros',\n",
        "              'Al. Jauaperi',\n",
        "              u'Al. Joaquim Eug\\xeanio de Lima',\n",
        "              u'Al. Jos\\xe9 Maria Lisboa',\n",
        "              'Al. Lorena',\n",
        "              'Al. Pamplona',\n",
        "              'Al. Santos',\n",
        "              u'Al. Sarutai\\xe1']),\n",
        " 'av': set(['AV PEDROSO DE MORAIS']),\n",
        " u'av.': set([u'Av. Ant\\xf4nio Joaquim de Moura Andrade',\n",
        "              'Av. Francisco Matarazzo',\n",
        "              'Av. Santo Amaro']),\n",
        " u'caja\\xedba': set([u'Caja\\xedba']),\n",
        " 'guarara': set(['Guarara']),\n",
        " 'pires': set(['Pires']),\n",
        " 'r': set(['R COJUBA'])}\n"
       ]
      }
     ],
     "prompt_number": 237
    },
    {
     "cell_type": "code",
     "collapsed": false,
     "input": [
      "for st_type, ways in st_types.iteritems():\n",
      "    for name in ways:\n",
      "        better_name = update_name(name, mapping)\n",
      "        if better_name:print name, \"=>\", better_name"
     ],
     "language": "python",
     "metadata": {},
     "outputs": [
      {
       "output_type": "stream",
       "stream": "stdout",
       "text": [
        "Al. Santos => Alameda Santos\n",
        "Al. Jauaperi => Alameda Jauaperi\n",
        "Al. Lorena => Alameda Lorena\n",
        "Al. Jos\u00e9 Maria Lisboa => Alameda Jos\u00e9 Maria Lisboa\n",
        "Al. Sarutai\u00e1 => Alameda Sarutai\u00e1\n",
        "Al. Joaquim Eug\u00eanio de Lima => Alameda Joaquim Eug\u00eanio De Lima\n",
        "Al. Pamplona => Alameda Pamplona\n",
        "Al. Barros => Alameda Barros\n",
        "Av. Ant\u00f4nio Joaquim de Moura Andrade => Avenida Ant\u00f4nio Joaquim De Moura Andrade\n",
        "Av. Santo Amaro => Avenida Santo Amaro\n",
        "Av. Francisco Matarazzo => Avenida Francisco Matarazzo\n",
        "R COJUBA => Rua Cojuba\n",
        "AV PEDROSO DE MORAIS => Avenida Pedroso De Morais\n"
       ]
      }
     ],
     "prompt_number": 241
    },
    {
     "cell_type": "code",
     "collapsed": false,
     "input": [
      "name"
     ],
     "language": "python",
     "metadata": {},
     "outputs": [
      {
       "metadata": {},
       "output_type": "pyout",
       "prompt_number": 234,
       "text": [
        "u'Caja\\xedba'"
       ]
      }
     ],
     "prompt_number": 234
    },
    {
     "cell_type": "code",
     "collapsed": false,
     "input": [
      "s=name.split()[0].lower()"
     ],
     "language": "python",
     "metadata": {},
     "outputs": [],
     "prompt_number": 222
    },
    {
     "cell_type": "code",
     "collapsed": false,
     "input": [
      "s"
     ],
     "language": "python",
     "metadata": {},
     "outputs": [
      {
       "metadata": {},
       "output_type": "pyout",
       "prompt_number": 223,
       "text": [
        "u'al.'"
       ]
      }
     ],
     "prompt_number": 223
    },
    {
     "cell_type": "code",
     "collapsed": false,
     "input": [
      "name=name[len(s):len(name)].lower().strip()"
     ],
     "language": "python",
     "metadata": {},
     "outputs": [],
     "prompt_number": 224
    },
    {
     "cell_type": "code",
     "collapsed": false,
     "input": [
      "if '.' in s[-1]: s = s[:-1]"
     ],
     "language": "python",
     "metadata": {},
     "outputs": [],
     "prompt_number": 226
    },
    {
     "cell_type": "code",
     "collapsed": false,
     "input": [
      "mapping[s],name"
     ],
     "language": "python",
     "metadata": {},
     "outputs": [
      {
       "metadata": {},
       "output_type": "pyout",
       "prompt_number": 228,
       "text": [
        "(u'alameda', u'jos\\xe9 maria lisboa')"
       ]
      }
     ],
     "prompt_number": 228
    },
    {
     "cell_type": "code",
     "collapsed": false,
     "input": [
      "    # YOUR CODE HERE\n",
      "    s=name.split()[0].lower()\n",
      "    name=name[len(s):len(name)].lower().strip()\n",
      "    if '.' in s[-1]: s = s[:-1]\n",
      "    name=(u\"{} {}\".format(mapping[s],name)).title() "
     ],
     "language": "python",
     "metadata": {},
     "outputs": [],
     "prompt_number": 231
    },
    {
     "cell_type": "code",
     "collapsed": false,
     "input": [
      "osm_file = open(filename, \"r\")\n",
      "street_types = defaultdict(set)\n",
      "tag_types = set()\n",
      "adress_city = set()\n",
      "i=0\n",
      "for event, elem in ET.iterparse(osm_file, events=(\"start\",)):\n",
      "\n",
      "    if elem.tag == \"node\" or elem.tag == \"way\":\n",
      "        for tag in elem.iter(\"tag\"):\n",
      "            tag_types.add(tag.attrib['k'].lower())\n",
      "            if tag.attrib['k'].lower() =='addr:city':\n",
      "                adress_city.add(tag.attrib['v'].lower())\n",
      "            if is_street_name(tag):\n",
      "                i+=1\n",
      "                audit_street_type(street_types, tag.attrib['v'])\n",
      "        elem.clear() # discard the element"
     ],
     "language": "python",
     "metadata": {},
     "outputs": [],
     "prompt_number": 175
    },
    {
     "cell_type": "code",
     "collapsed": false,
     "input": [
      "pprint.pprint(adress_city)"
     ],
     "language": "python",
     "metadata": {},
     "outputs": [
      {
       "output_type": "stream",
       "stream": "stdout",
       "text": [
        "set(['sao paulo', u's\\xe3o paulo'])\n"
       ]
      }
     ],
     "prompt_number": 176
    },
    {
     "cell_type": "code",
     "collapsed": false,
     "input": [
      "pprint.pprint(tag_types)"
     ],
     "language": "python",
     "metadata": {},
     "outputs": [
      {
       "output_type": "stream",
       "stream": "stdout",
       "text": [
        "set(['access',\n",
        "     'access:conditional',\n",
        "     'access:gender',\n",
        "     'add:city',\n",
        "     'addr:city',\n",
        "     'addr:country',\n",
        "     'addr:housename',\n",
        "     'addr:housenumber',\n",
        "     'addr:inclusion',\n",
        "     'addr:interpolation',\n",
        "     'addr:postcode',\n",
        "     'addr:state',\n",
        "     'addr:street',\n",
        "     'addr:subdistrict',\n",
        "     'addr:suburb',\n",
        "     'addr:unit',\n",
        "     'address:number',\n",
        "     'admin_level',\n",
        "     'aeroway',\n",
        "     'alt_name',\n",
        "     'alt_name:en',\n",
        "     'amenity',\n",
        "     'amenity_1',\n",
        "     'amenity_2',\n",
        "     'amenity_3',\n",
        "     'amenity_4',\n",
        "     'amsl',\n",
        "     'area',\n",
        "     'artist_name',\n",
        "     'artwork_type',\n",
        "     'associatedmedia',\n",
        "     'atm',\n",
        "     'bairro',\n",
        "     'barrier',\n",
        "     'basisofrecord',\n",
        "     'beds',\n",
        "     'bench',\n",
        "     'bicycle',\n",
        "     'bicycle:conditional',\n",
        "     'bicycle_parking',\n",
        "     'boat',\n",
        "     'boundary',\n",
        "     'brand',\n",
        "     'bridge',\n",
        "     'building',\n",
        "     'building:levels',\n",
        "     'building:min_level',\n",
        "     'bus',\n",
        "     'busway',\n",
        "     'busway:left',\n",
        "     'busway:right',\n",
        "     'capacity',\n",
        "     'capacity:disabled',\n",
        "     'capacity:women',\n",
        "     'cd_geocodd',\n",
        "     'clothes',\n",
        "     'collection_times',\n",
        "     'construction',\n",
        "     'contact:email',\n",
        "     'contact:fax',\n",
        "     'contact:phone',\n",
        "     'contact:website',\n",
        "     'country',\n",
        "     'covered',\n",
        "     'craft',\n",
        "     'created_by',\n",
        "     'crossing',\n",
        "     'cuisine',\n",
        "     'cutting',\n",
        "     'cyclability',\n",
        "     'cycleway',\n",
        "     'cycleway:left',\n",
        "     'cycleway:right',\n",
        "     'decimallatitude',\n",
        "     'decimallongitude',\n",
        "     'delivery',\n",
        "     'denomination',\n",
        "     'description',\n",
        "     'diet:vegan',\n",
        "     'diet:vegetarian',\n",
        "     'diplomatic',\n",
        "     'dispensing',\n",
        "     'disused',\n",
        "     'drinking_water',\n",
        "     'drive_through',\n",
        "     'dwc:associatedmedia',\n",
        "     'dwc:basisofrecord',\n",
        "     'dwc:decimallatitude',\n",
        "     'dwc:decimallongitude',\n",
        "     'dwc:scientificname',\n",
        "     'ele',\n",
        "     'electrified',\n",
        "     'email',\n",
        "     'embankment',\n",
        "     'emergency',\n",
        "     'end_date',\n",
        "     u'endere\\xe7o',\n",
        "     'enforcement',\n",
        "     'entrance',\n",
        "     'fax',\n",
        "     'fee',\n",
        "     'fenced',\n",
        "     'fixme',\n",
        "     'flag',\n",
        "     'food',\n",
        "     'foot',\n",
        "     'footway',\n",
        "     'frequency',\n",
        "     'fuel:cng',\n",
        "     'fuel:diesel',\n",
        "     'fuel:e10',\n",
        "     'fuel:e100',\n",
        "     'fuel:e85',\n",
        "     'fuel:octane_87',\n",
        "     'gambling',\n",
        "     'garden:type',\n",
        "     'gauge',\n",
        "     'generator:method',\n",
        "     'generator:source',\n",
        "     'georeferencedby',\n",
        "     'georeferenceddate',\n",
        "     'height',\n",
        "     'hgv',\n",
        "     'highway',\n",
        "     'historic',\n",
        "     'horse',\n",
        "     'iata',\n",
        "     'ibge:geocodigo',\n",
        "     'icao',\n",
        "     'id',\n",
        "     'information',\n",
        "     'int_name',\n",
        "     'int_ref',\n",
        "     'internet_access',\n",
        "     'internet_access:fee',\n",
        "     'is_in',\n",
        "     'is_in:continent',\n",
        "     'is_in:country',\n",
        "     'is_in:country_code',\n",
        "     'is_in:state',\n",
        "     'is_in:state_code',\n",
        "     'junction',\n",
        "     'landmark',\n",
        "     'landuse',\n",
        "     'lanes',\n",
        "     'lanes:psv:forward',\n",
        "     'layer',\n",
        "     'leaf_type',\n",
        "     'leisure',\n",
        "     'length',\n",
        "     'level',\n",
        "     'lit',\n",
        "     'loc_name',\n",
        "     'local_ref',\n",
        "     'loja',\n",
        "     'man_made',\n",
        "     'map_size',\n",
        "     'map_type',\n",
        "     'maxheight',\n",
        "     'maxspeed',\n",
        "     'maxstay',\n",
        "     'memorial',\n",
        "     'motor_vehicle',\n",
        "     'motorcar',\n",
        "     'motorroad',\n",
        "     'mtb:scale:imba',\n",
        "     'name',\n",
        "     'name2',\n",
        "     'name:ab',\n",
        "     'name:am',\n",
        "     'name:ar',\n",
        "     'name:ay',\n",
        "     'name:az',\n",
        "     'name:ba',\n",
        "     'name:be',\n",
        "     'name:bg',\n",
        "     'name:bn',\n",
        "     'name:ce',\n",
        "     'name:cv',\n",
        "     'name:de',\n",
        "     'name:dv',\n",
        "     'name:el',\n",
        "     'name:en',\n",
        "     'name:eo',\n",
        "     'name:es',\n",
        "     'name:fa',\n",
        "     'name:fr',\n",
        "     'name:gl',\n",
        "     'name:he',\n",
        "     'name:hi',\n",
        "     'name:hy',\n",
        "     'name:io',\n",
        "     'name:it',\n",
        "     'name:ja',\n",
        "     'name:jbo',\n",
        "     'name:ka',\n",
        "     'name:kk',\n",
        "     'name:kn',\n",
        "     'name:ko',\n",
        "     'name:kv',\n",
        "     'name:la',\n",
        "     'name:lt',\n",
        "     'name:lv',\n",
        "     'name:mk',\n",
        "     'name:ml',\n",
        "     'name:mn',\n",
        "     'name:mr',\n",
        "     'name:ne',\n",
        "     'name:os',\n",
        "     'name:pa',\n",
        "     'name:pl',\n",
        "     'name:pt',\n",
        "     'name:ru',\n",
        "     'name:sa',\n",
        "     'name:sh',\n",
        "     'name:sr',\n",
        "     'name:ta',\n",
        "     'name:tg',\n",
        "     'name:th',\n",
        "     'name:tk',\n",
        "     'name:tr',\n",
        "     'name:tt',\n",
        "     'name:ug',\n",
        "     'name:uk',\n",
        "     'name:ur',\n",
        "     'name:uz',\n",
        "     'name:wa',\n",
        "     'name:yi',\n",
        "     'name:yo',\n",
        "     'name:zh',\n",
        "     'nat_ref',\n",
        "     'natural',\n",
        "     'network',\n",
        "     'nm_distrit',\n",
        "     'noexit',\n",
        "     'note',\n",
        "     'office',\n",
        "     'official_name',\n",
        "     'old_name',\n",
        "     'oneway',\n",
        "     'oneway:bicycle',\n",
        "     'oneway:conditional',\n",
        "     'opening_hours',\n",
        "     'operator',\n",
        "     'organic',\n",
        "     'park_ride',\n",
        "     'parking',\n",
        "     'payment:bitcoin',\n",
        "     'payment:litecoin',\n",
        "     'payment:telephone_cards',\n",
        "     'phone',\n",
        "     'place',\n",
        "     'pop_name',\n",
        "     'population',\n",
        "     'postal_code',\n",
        "     'power',\n",
        "     'psv',\n",
        "     'public_space',\n",
        "     'public_transport',\n",
        "     'railway',\n",
        "     'rank',\n",
        "     'rednap:latitud',\n",
        "     'rednap:longitud',\n",
        "     'ref',\n",
        "     'reg_name',\n",
        "     'religion',\n",
        "     'repair',\n",
        "     'restriction_no_left_turn',\n",
        "     'roof:shape',\n",
        "     'sac_scale',\n",
        "     'scientificname',\n",
        "     'segregated',\n",
        "     u'seguran\\xe7a',\n",
        "     'service',\n",
        "     'service:bicycle:diy',\n",
        "     'service:bicycle:repair',\n",
        "     'shelter',\n",
        "     'shop',\n",
        "     'short_name',\n",
        "     'sidewalk',\n",
        "     'smoking',\n",
        "     'social_facility',\n",
        "     'social_facility:for',\n",
        "     'source',\n",
        "     'source:name',\n",
        "     'species',\n",
        "     'sport',\n",
        "     'stars',\n",
        "     'state_capital',\n",
        "     'status:age',\n",
        "     'status:inhabited',\n",
        "     'status:structure',\n",
        "     'step_count',\n",
        "     'subway',\n",
        "     'supervised',\n",
        "     'surface',\n",
        "     'tactile_paving',\n",
        "     'theater:genre',\n",
        "     'theatre:genre',\n",
        "     'toilets:disposal',\n",
        "     'toilets:position',\n",
        "     'tourism',\n",
        "     'tower:type',\n",
        "     'tracktype',\n",
        "     'traffic_calming',\n",
        "     'traffic_signals:direction',\n",
        "     'trail_visibility',\n",
        "     'train',\n",
        "     'training',\n",
        "     'tunnel',\n",
        "     'type',\n",
        "     'url',\n",
        "     'vending',\n",
        "     'voltage',\n",
        "     'water',\n",
        "     'waterway',\n",
        "     'website',\n",
        "     'wheelchair',\n",
        "     'width',\n",
        "     'wifi',\n",
        "     'wikidata',\n",
        "     'wikipedia',\n",
        "     'wikipedia:de',\n",
        "     'wikipedia:en',\n",
        "     'wikipedia:pt',\n",
        "     'wikipedia:ru',\n",
        "     'wpt_description',\n",
        "     'wpt_symbol',\n",
        "     'yelp'])\n"
       ]
      }
     ],
     "prompt_number": 177
    },
    {
     "cell_type": "code",
     "collapsed": false,
     "input": [
      "i"
     ],
     "language": "python",
     "metadata": {},
     "outputs": [
      {
       "metadata": {},
       "output_type": "pyout",
       "prompt_number": 161,
       "text": [
        "6342"
       ]
      }
     ],
     "prompt_number": 161
    },
    {
     "cell_type": "code",
     "collapsed": false,
     "input": [],
     "language": "python",
     "metadata": {},
     "outputs": []
    },
    {
     "cell_type": "code",
     "collapsed": false,
     "input": [],
     "language": "python",
     "metadata": {},
     "outputs": []
    },
    {
     "cell_type": "code",
     "collapsed": false,
     "input": [],
     "language": "python",
     "metadata": {},
     "outputs": []
    },
    {
     "cell_type": "code",
     "collapsed": false,
     "input": [],
     "language": "python",
     "metadata": {},
     "outputs": []
    },
    {
     "cell_type": "code",
     "collapsed": false,
     "input": [
      "['avenida',\"alameda\",'largo','travessa','pra\\xe7a', 'via','viaduto','viela', 'estrada', 'rodovia', 'rua']"
     ],
     "language": "python",
     "metadata": {},
     "outputs": [
      {
       "metadata": {},
       "output_type": "pyout",
       "prompt_number": 51,
       "text": [
        "False"
       ]
      }
     ],
     "prompt_number": 51
    },
    {
     "cell_type": "code",
     "collapsed": false,
     "input": [
      "{'av': u'Avenida',\n",
      " 'al': u\"Alameda\",\n",
      " 'lgo': u'Largo',\n",
      " 'praca': u'Pra\\xe7a',\n",
      " 'r': u'Rua',\n",
      " 'rd': u'Rodovia'\n",
      " }"
     ],
     "language": "python",
     "metadata": {},
     "outputs": [],
     "prompt_number": 46
    },
    {
     "cell_type": "code",
     "collapsed": false,
     "input": [
      "u'P\u00e7'"
     ],
     "language": "python",
     "metadata": {},
     "outputs": [
      {
       "metadata": {},
       "output_type": "pyout",
       "prompt_number": 52,
       "text": [
        "u'P\\xe7'"
       ]
      }
     ],
     "prompt_number": 52
    },
    {
     "cell_type": "code",
     "collapsed": false,
     "input": [],
     "language": "python",
     "metadata": {},
     "outputs": []
    },
    {
     "cell_type": "code",
     "collapsed": false,
     "input": [
      "print u'Cant\\xeddio'\n"
     ],
     "language": "python",
     "metadata": {},
     "outputs": [
      {
       "output_type": "stream",
       "stream": "stdout",
       "text": [
        "Cant\u00eddio\n"
       ]
      }
     ],
     "prompt_number": 45
    },
    {
     "cell_type": "markdown",
     "metadata": {},
     "source": [
      "<em>CSS Style</em>\n",
      "\n",
      "\n",
      "<style type=\"text/css\">\n",
      "    \n",
      "    .rendered_html ol {list-style:decimal; margin: 1em 2em;}\n",
      "    \n",
      "    div.input{\n",
      "    width: 120ex;\n",
      "    }\n",
      "    \n",
      "    div.text_cell{\n",
      "    width: 120ex;\n",
      "    }\n",
      "    \n",
      "    div.text_cell_render{\n",
      "    font-family: \"Charis SIL\",serif;\n",
      "    line-height: 145%;\n",
      "    width: 125ex;\n",
      "    margin-left:2.1cm;\n",
      "    }\n",
      "\n",
      "    div.text_cell_render h1 {\n",
      "    font-size: 18pt;\n",
      "    }\n",
      "\n",
      "    div.text_cell_render h2 {\n",
      "    font-size: 14pt;\n",
      "    }\n",
      "\n",
      "    .CodeMirror {\n",
      "    font-family: Consolas, monospace;\n",
      "    }\n",
      "\n",
      "</style>\n",
      "\n",
      "\n",
      "<style type=\"text/css\">\n",
      "    table {\n",
      "\toverflow:hidden;\n",
      "    font-family: \"Lucida Sans Unicode\", \"Lucida Grande\", Sans-Serif;\n",
      "\tfont-size: 12px;\n",
      "\tmargin: 45px;\n",
      "\twidth: 480px;\n",
      "\ttext-align: left;\n",
      "\tborder-collapse: collapse;\n",
      "\tborder: 1px solid #d3d3d3;\n",
      "    -moz-border-radius:5px; FF1+;\n",
      "    -webkit-border-radius:5px; Saf3-4;\n",
      "    border-radius:5px;\n",
      "    -moz-box-shadow: 0 0 4px rgba(0, 0, 0, 0.01);    \n",
      "}\n",
      "th\n",
      "{\n",
      "\tpadding: 12px 17px 12px 17px;\n",
      "\tfont-weight: normal;\n",
      "\tfont-size: 14px;\n",
      "\tborder-bottom: 1px dashed #69c;\n",
      "}\n",
      "\n",
      "td\n",
      "{\n",
      "\tpadding: 7px 17px 7px 17px;\n",
      "\n",
      "}\n",
      "\n",
      "tbody tr:hover th\n",
      "{\n",
      "\n",
      "\tbackground:  #E9E9E9;\n",
      "}\n",
      "\n",
      "tbody tr:hover td\n",
      "{\n",
      "\n",
      "\tbackground:  #E9E9E9;\n",
      "}\n",
      "</style>"
     ]
    }
   ],
   "metadata": {}
  }
 ]
}
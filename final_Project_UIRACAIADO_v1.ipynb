{
 "metadata": {
  "name": "",
  "signature": "sha256:4016f7400a4e18f4e1cae647b28880470df29ad8b9b5a0dbaf9494d405aaa62d"
 },
 "nbformat": 3,
 "nbformat_minor": 0,
 "worksheets": [
  {
   "cells": [
    {
     "cell_type": "markdown",
     "metadata": {},
     "source": [
      "\n",
      "\n",
      "\n",
      "\n",
      "\n",
      "# Data Wrangle OpenStreetMaps Data"
     ]
    },
    {
     "cell_type": "markdown",
     "metadata": {},
     "source": [
      "The first thing that I noticed when I started exploring the data about my city was that there were tons words wrongly accentuated or without special characteres. The grammar of Brazilian Portuguese is tricky, sometimes it is confusing.\n",
      "\n",
      "Bla bla bla2 <a href=\"http://www.quora.com/How-do-you-explain-Machine-Learning-and-Data-Mining-to-non-Computer-Science-people\">some link</a> source of the link.\n",
      "\n",
      "Bla Bla Bla3. \n",
      "\n",
      "###subtitle1\n",
      "\n",
      "Bla Bla Bla1a. "
     ]
    },
    {
     "cell_type": "code",
     "collapsed": false,
     "input": [
      "filename='c:/Users/Vera/Dropbox/NEUTRINO/ALGO/DATA/sao-paulo_brazil.osm'\n",
      "filename='/Users/ucaiado/Dropbox/NEUTRINO/ALGO/DATA/sao-paulo_brazil.osm'\n",
      "filename='/Users/ucaiado/Documents/temp/map.osm-2.xml'\n",
      "filename='/Users/ucaiado/Downloads/map'"
     ],
     "language": "python",
     "metadata": {},
     "outputs": [],
     "prompt_number": 1
    },
    {
     "cell_type": "markdown",
     "metadata": {},
     "source": [
      "source: http://eli.thegreenplace.net/2012/03/15/processing-xml-in-python-with-elementtree\n",
      "\n",
      "regular - expression: http://en.wikipedia.org/wiki/Regular_expression\n",
      "\n",
      "How many streets there are in Sao Paulo: http://super.abril.com.br/cultura/quantas-ruas-existem-sao-paulo-444417.shtml"
     ]
    },
    {
     "cell_type": "code",
     "collapsed": false,
     "input": [
      "import xml.etree.cElementTree as ET\n",
      "import pprint\n",
      "\n",
      "def count_tags(filename):\n",
      "    # I had some issues with the original code regarding to memory usage\n",
      "    d={}\n",
      "    for event, elem in ET.iterparse(filename):\n",
      "        if event == 'end':\n",
      "            if elem.tag not in d: d[elem.tag]=1\n",
      "            else: d[elem.tag]+=1\n",
      "        elem.clear() # discard the element\n",
      "            \n",
      "    return d"
     ],
     "language": "python",
     "metadata": {},
     "outputs": [],
     "prompt_number": 2
    },
    {
     "cell_type": "code",
     "collapsed": false,
     "input": [
      "d=count_tags(filename)"
     ],
     "language": "python",
     "metadata": {},
     "outputs": [],
     "prompt_number": 16
    },
    {
     "cell_type": "code",
     "collapsed": false,
     "input": [
      "pprint.pprint(d)"
     ],
     "language": "python",
     "metadata": {},
     "outputs": [
      {
       "output_type": "stream",
       "stream": "stdout",
       "text": [
        "{'bounds': 1,\n",
        " 'member': 40355,\n",
        " 'meta': 1,\n",
        " 'nd': 920690,\n",
        " 'node': 709154,\n",
        " 'note': 1,\n",
        " 'osm': 1,\n",
        " 'relation': 3482,\n",
        " 'tag': 378007,\n",
        " 'way': 117742}\n"
       ]
      }
     ],
     "prompt_number": 17
    },
    {
     "cell_type": "code",
     "collapsed": false,
     "input": [],
     "language": "python",
     "metadata": {},
     "outputs": []
    },
    {
     "cell_type": "code",
     "collapsed": false,
     "input": [],
     "language": "python",
     "metadata": {},
     "outputs": []
    },
    {
     "cell_type": "code",
     "collapsed": false,
     "input": [
      "import xml.etree.cElementTree as ET\n",
      "import pprint\n",
      "import re\n",
      "\n",
      "lower = re.compile(r'^([a-z]|_)*$')\n",
      "lower_colon = re.compile(r'^([a-z]|_)*:([a-z]|_)*$')\n",
      "problemchars = re.compile(r'[=\\+/&<>;\\'\"\\?%#$@\\,\\. \\t\\r\\n]')\n",
      "problemchars2 = re.compile(r'[=\\+/&<>;\\'\"\\?%#$@\\,\\ \\t\\r\\n]')\n",
      "\n",
      "\n",
      "def key_type(element, keys):\n",
      "    if element.tag == \"tag\":\n",
      "        # YOUR CODE HERE\n",
      "        s=element.attrib['k']\n",
      "        if problemchars.search(s): keys['problemchars']+=1 \n",
      "        elif lower_colon.search(s):keys['lower_colon']+=1\n",
      "        elif lower.search(s):keys['lower']+=1\n",
      "        else: keys['other']+=1\n",
      "\n",
      "        \n",
      "    return keys\n",
      "\n",
      "\n",
      "\n",
      "def process_map(filename):\n",
      "    keys = {\"lower\": 0, \"lower_colon\": 0, \"problemchars\": 0, \"other\": 0}\n",
      "    for _, element in ET.iterparse(filename):\n",
      "        keys = key_type(element, keys)\n",
      "        element.clear() # discard the element\n",
      "\n",
      "    return keys\n",
      "\n",
      "\n",
      "# You can use another testfile 'map.osm' to look at your solution\n",
      "# Note that the assertions will be incorrect then.\n",
      "keys = process_map(filename)"
     ],
     "language": "python",
     "metadata": {},
     "outputs": [],
     "prompt_number": 189
    },
    {
     "cell_type": "code",
     "collapsed": false,
     "input": [
      "pprint.pprint(keys)"
     ],
     "language": "python",
     "metadata": {},
     "outputs": [
      {
       "output_type": "stream",
       "stream": "stdout",
       "text": [
        "{'lower': 356280, 'lower_colon': 21382, 'other': 341, 'problemchars': 4}\n"
       ]
      }
     ],
     "prompt_number": 19
    },
    {
     "cell_type": "code",
     "collapsed": false,
     "input": [],
     "language": "python",
     "metadata": {},
     "outputs": []
    },
    {
     "cell_type": "code",
     "collapsed": false,
     "input": [],
     "language": "python",
     "metadata": {},
     "outputs": []
    },
    {
     "cell_type": "code",
     "collapsed": false,
     "input": [
      "import pprint\n",
      "import re\n",
      "\n",
      "def get_user(element,users):\n",
      "    if element.tag == \"node\":\n",
      "        # YOUR CODE HERE\n",
      "        users.add(element.attrib['uid'])\n",
      "\n",
      "        \n",
      "    return users\n",
      "\n",
      "\n",
      "def process_map(filename):\n",
      "    users = set()\n",
      "    for _, element in ET.iterparse(filename):\n",
      "        users= get_user(element,users)\n",
      "        element.clear() # discard the element\n",
      "\n",
      "    return users\n",
      "\n",
      "users = process_map(filename)\n",
      "\n"
     ],
     "language": "python",
     "metadata": {},
     "outputs": [],
     "prompt_number": 20
    },
    {
     "cell_type": "code",
     "collapsed": false,
     "input": [
      "print 'Unique Users that contributed to this map: {}'.format(len(users))"
     ],
     "language": "python",
     "metadata": {},
     "outputs": [
      {
       "output_type": "stream",
       "stream": "stdout",
       "text": [
        "Unique Users that contributed to this map: 937\n"
       ]
      }
     ],
     "prompt_number": 21
    },
    {
     "cell_type": "code",
     "collapsed": false,
     "input": [],
     "language": "python",
     "metadata": {},
     "outputs": []
    },
    {
     "cell_type": "code",
     "collapsed": false,
     "input": [],
     "language": "python",
     "metadata": {},
     "outputs": []
    },
    {
     "cell_type": "code",
     "collapsed": false,
     "input": [
      "import xml.etree.cElementTree as ET\n",
      "from collections import defaultdict\n",
      "import re\n",
      "import pprint\n",
      "\n",
      "OSMFILE = filename\n",
      "street_type_re = re.compile(r'([^\\s]+)', re.IGNORECASE)\n",
      "\n",
      "\n",
      "expected =['avenida',\"alameda\",'largo','travessa',u'pra\\xe7a', 'via','viaduto','viela', 'estrada', 'rodovia', 'rua']\n",
      "\n",
      "# UPDATE THIS VARIABLE\n",
      "mapping = {  'av': u'avenida',\n",
      "             'al': u\"alameda\",\n",
      "             'lgo': u'largo',\n",
      "             'praca': u'pra\\xe7a',\n",
      "             'r': u'rua',\n",
      "             'rd': u'rodovia'\n",
      "            }\n",
      "\n",
      "def audit_street_type(street_types, street_name):\n",
      "    m = street_type_re.search(street_name)\n",
      "    if m:\n",
      "        street_type = m.group().lower()\n",
      "        if street_type not in expected:\n",
      "            street_types[street_type].add(street_name)\n",
      "\n",
      "\n",
      "def is_street_name(elem):\n",
      "    return (((elem.attrib['k']).lower() == \"addr:street\") )\n",
      "\n",
      "\n",
      "def audit(osmfile):\n",
      "    osm_file = open(osmfile, \"r\")\n",
      "    street_types = defaultdict(set)\n",
      "    for event, elem in ET.iterparse(osm_file, events=(\"start\",)):\n",
      "\n",
      "        if elem.tag == \"node\" or elem.tag == \"way\":\n",
      "            for tag in elem.iter(\"tag\"):\n",
      "                if is_street_name(tag):\n",
      "                    audit_street_type(street_types, tag.attrib['v'])\n",
      "            elem.clear() # discard the element\n",
      "\n",
      "    return street_types\n",
      "\n",
      "\n",
      "def update_name(name, mapping):\n",
      "    s=name.split()[0].lower()\n",
      "    name=name[len(s):len(name)].lower().strip()\n",
      "    if '.' in s[-1]: s = s[:-1]\n",
      "    if s not in mapping: return None\n",
      "    name=(u\"{} {}\".format(mapping[s],name)).title() \n",
      "    return name\n",
      "\n",
      "def update_name_new(name, mapping):\n",
      "    s=name.split()[0].lower()\n",
      "    name=name[len(s):len(name)].lower().strip()\n",
      "    if '.' in s[-1]: s = s[:-1]\n",
      "    if s not in mapping: return None\n",
      "    if problemchars2.search(name):\n",
      "        l=[x for x in problemchars2.findall(name) if x !=' ']\n",
      "        if l: name=name.split(l[0])[0]\n",
      "    try:\n",
      "        name=(u\"{} {}\".format(mapping[s],unicode(name.strip(), 'utf8'))).title() \n",
      "    except UnicodeDecodeError :\n",
      "        name=(u\"{} {}\".format(mapping[s],unicode(name.strip(), 'latin1'))).title()\n",
      "    except TypeError:\n",
      "        name=(u\"{} {}\".format(mapping[s],name.strip())).title()         \n",
      "    return name\n",
      "\n",
      "\n",
      "def test():\n",
      "    st_types = audit(OSMFILE)\n",
      "    assert len(st_types) == 3\n",
      "    pprint.pprint(dict(st_types))\n",
      "\n",
      "    for st_type, ways in st_types.iteritems():\n",
      "        for name in ways:\n",
      "            better_name = update_name(name, mapping)\n",
      "            print name, \"=>\", better_name\n",
      "            if name == \"West Lexington St.\":\n",
      "                assert better_name == \"West Lexington Street\"\n",
      "            if name == \"Baldwin Rd.\":\n",
      "                assert better_name == \"Baldwin Road\""
     ],
     "language": "python",
     "metadata": {},
     "outputs": [],
     "prompt_number": 190
    },
    {
     "cell_type": "code",
     "collapsed": false,
     "input": [
      "st_types = audit(filename)"
     ],
     "language": "python",
     "metadata": {},
     "outputs": [],
     "prompt_number": 23
    },
    {
     "cell_type": "code",
     "collapsed": false,
     "input": [
      "pprint.pprint(dict(st_types))"
     ],
     "language": "python",
     "metadata": {},
     "outputs": [
      {
       "output_type": "stream",
       "stream": "stdout",
       "text": [
        "{'3': set(['3']),\n",
        " 'ac': set(['AC SAO BERNARDO DO CAMPO']),\n",
        " 'aguia': set(['Aguia de Haia']),\n",
        " u'al.': set(['Al. Barros',\n",
        "              'Al. Jauaperi',\n",
        "              u'Al. Joaquim Eug\\xeanio de Lima',\n",
        "              u'Al. Jos\\xe9 Maria Lisboa',\n",
        "              'Al. Lorena',\n",
        "              'Al. Pamplona',\n",
        "              'Al. Santos',\n",
        "              u'Al. Sarutai\\xe1']),\n",
        " u'av': set(['AV PEDROSO DE MORAIS',\n",
        "             u'Av Guap\\xe9',\n",
        "             u'Av Jac\\xfa Pessego / Nova Trabalhadores']),\n",
        " u'av.': set([u'Av. Ant\\xf4nio Joaquim de Moura Andrade',\n",
        "              'Av. Francisco Matarazzo',\n",
        "              u'Av. Francisco N\\xf3brega Barbosa',\n",
        "              u'Av. Prof. L\\xfacio Martins Rodrigues, travessas 4 e 5',\n",
        "              'Av. Santo Amaro']),\n",
        " 'azevedo': set(['Azevedo Junior']),\n",
        " u'caja\\xedba': set([u'Caja\\xedba']),\n",
        " 'coronel': set(['Coronel Manuel Machado']),\n",
        " 'franklin': set(['Franklin do Amaral']),\n",
        " 'garcia': set(['Garcia Lorca']),\n",
        " 'guarara': set(['Guarara']),\n",
        " 'hum': set(['Hum']),\n",
        " 'manoel': set(['Manoel Ramos Paiva']),\n",
        " 'marina': set(['Marina', 'Marina Giacomini, 57']),\n",
        " u'parque': set([u'Parque da Independ\\xeancia']),\n",
        " 'pires': set(['Pires']),\n",
        " 'praca': set(['Praca Professor Reinaldo Porchat de Assis']),\n",
        " 'r': set(['R COJUBA', 'R RESTINGA']),\n",
        " u'r.': set([u'R. Ant\\xf4nio Barroso Barreto'])}\n"
       ]
      }
     ],
     "prompt_number": 24
    },
    {
     "cell_type": "code",
     "collapsed": false,
     "input": [
      "for st_type, ways in st_types.iteritems():\n",
      "    for name in ways:\n",
      "        better_name = update_name_new(name, mapping)\n",
      "        if better_name:print name, \"=>\", better_name"
     ],
     "language": "python",
     "metadata": {},
     "outputs": [
      {
       "output_type": "stream",
       "stream": "stdout",
       "text": [
        "Al. Santos => Alameda Santos\n",
        "Al. Jauaperi => Alameda Jauaperi\n",
        "Al. Lorena => Alameda Lorena\n",
        "Al. Jos\u00e9 Maria Lisboa => Alameda Jos\u00e9 Maria Lisboa\n",
        "Al. Sarutai\u00e1 => Alameda Sarutai\u00e1\n",
        "Al. Joaquim Eug\u00eanio de Lima => Alameda Joaquim Eug\u00eanio De Lima\n",
        "Al. Pamplona => Alameda Pamplona\n",
        "Al. Barros => Alameda Barros\n",
        "Praca Professor Reinaldo Porchat de Assis => Pra\u00e7a Professor Reinaldo Porchat De Assis\n",
        "Av. Ant\u00f4nio Joaquim de Moura Andrade => Avenida Ant\u00f4nio Joaquim De Moura Andrade\n",
        "Av. Santo Amaro => Avenida Santo Amaro\n",
        "Av. Prof. L\u00facio Martins Rodrigues, travessas 4 e 5 => Avenida Prof. L\u00facio Martins Rodrigues\n",
        "Av. Francisco N\u00f3brega Barbosa => Avenida Francisco N\u00f3brega Barbosa\n",
        "Av. Francisco Matarazzo => Avenida Francisco Matarazzo\n",
        "R RESTINGA => Rua Restinga\n",
        "R COJUBA => Rua Cojuba\n",
        "Av Guap\u00e9 => Avenida Guap\u00e9\n",
        "Av Jac\u00fa Pessego / Nova Trabalhadores => Avenida Jac\u00fa Pessego\n",
        "AV PEDROSO DE MORAIS => Avenida Pedroso De Morais\n",
        "R. Ant\u00f4nio Barroso Barreto => Rua Ant\u00f4nio Barroso Barreto\n"
       ]
      }
     ],
     "prompt_number": 191
    },
    {
     "cell_type": "code",
     "collapsed": false,
     "input": [
      "name"
     ],
     "language": "python",
     "metadata": {},
     "outputs": [
      {
       "metadata": {},
       "output_type": "pyout",
       "prompt_number": 175,
       "text": [
        "u'Al. Jos\\xe9 Maria Lisboa'"
       ]
      }
     ],
     "prompt_number": 175
    },
    {
     "cell_type": "code",
     "collapsed": false,
     "input": [],
     "language": "python",
     "metadata": {},
     "outputs": []
    },
    {
     "cell_type": "code",
     "collapsed": false,
     "input": [],
     "language": "python",
     "metadata": {},
     "outputs": []
    },
    {
     "cell_type": "code",
     "collapsed": false,
     "input": [],
     "language": "python",
     "metadata": {},
     "outputs": []
    },
    {
     "cell_type": "code",
     "collapsed": false,
     "input": [],
     "language": "python",
     "metadata": {},
     "outputs": []
    },
    {
     "cell_type": "code",
     "collapsed": false,
     "input": [],
     "language": "python",
     "metadata": {},
     "outputs": []
    },
    {
     "cell_type": "code",
     "collapsed": false,
     "input": [
      "from dbf import *"
     ],
     "language": "python",
     "metadata": {},
     "outputs": [
      {
       "ename": "ImportError",
       "evalue": "No module named dbf",
       "output_type": "pyerr",
       "traceback": [
        "\u001b[0;31m---------------------------------------------------------------------------\u001b[0m\n\u001b[0;31mImportError\u001b[0m                               Traceback (most recent call last)",
        "\u001b[0;32m<ipython-input-208-b7d5cfa970a4>\u001b[0m in \u001b[0;36m<module>\u001b[0;34m()\u001b[0m\n\u001b[0;32m----> 1\u001b[0;31m \u001b[0;32mfrom\u001b[0m \u001b[0mdbf\u001b[0m \u001b[0;32mimport\u001b[0m \u001b[0;34m*\u001b[0m\u001b[0;34m\u001b[0m\u001b[0m\n\u001b[0m",
        "\u001b[0;31mImportError\u001b[0m: No module named dbf"
       ]
      }
     ],
     "prompt_number": 208
    },
    {
     "cell_type": "code",
     "collapsed": false,
     "input": [
      "from dbfpy import *\n",
      "\n",
      "def demo1():\n",
      "    dbf1 = Dbf()\n",
      "    dbf1.openFile('county.dbf', readOnly=1)\n",
      "\n",
      "    dbf1.reportOn()\n",
      "    print 'sample records:'\n",
      "    for i1 in range(min(3,len(dbf1))):\n",
      "        rec = dbf1[i1]\n",
      "        for fldName in dbf1.fieldNames():\n",
      "            print '%s:\\t %s'%(fldName, rec[fldName])\n",
      "        print\n",
      "    dbf1.close()"
     ],
     "language": "python",
     "metadata": {},
     "outputs": [],
     "prompt_number": 209
    },
    {
     "cell_type": "code",
     "collapsed": false,
     "input": [
      "demo1()"
     ],
     "language": "python",
     "metadata": {},
     "outputs": [
      {
       "ename": "NameError",
       "evalue": "global name 'Dbf' is not defined",
       "output_type": "pyerr",
       "traceback": [
        "\u001b[0;31m---------------------------------------------------------------------------\u001b[0m\n\u001b[0;31mNameError\u001b[0m                                 Traceback (most recent call last)",
        "\u001b[0;32m<ipython-input-210-a8330644fa2e>\u001b[0m in \u001b[0;36m<module>\u001b[0;34m()\u001b[0m\n\u001b[0;32m----> 1\u001b[0;31m \u001b[0mdemo1\u001b[0m\u001b[0;34m(\u001b[0m\u001b[0;34m)\u001b[0m\u001b[0;34m\u001b[0m\u001b[0m\n\u001b[0m",
        "\u001b[0;32m<ipython-input-209-35954af59838>\u001b[0m in \u001b[0;36mdemo1\u001b[0;34m()\u001b[0m\n\u001b[1;32m      2\u001b[0m \u001b[0;34m\u001b[0m\u001b[0m\n\u001b[1;32m      3\u001b[0m \u001b[0;32mdef\u001b[0m \u001b[0mdemo1\u001b[0m\u001b[0;34m(\u001b[0m\u001b[0;34m)\u001b[0m\u001b[0;34m:\u001b[0m\u001b[0;34m\u001b[0m\u001b[0m\n\u001b[0;32m----> 4\u001b[0;31m     \u001b[0mdbf1\u001b[0m \u001b[0;34m=\u001b[0m \u001b[0mDbf\u001b[0m\u001b[0;34m(\u001b[0m\u001b[0;34m)\u001b[0m\u001b[0;34m\u001b[0m\u001b[0m\n\u001b[0m\u001b[1;32m      5\u001b[0m     \u001b[0mdbf1\u001b[0m\u001b[0;34m.\u001b[0m\u001b[0mopenFile\u001b[0m\u001b[0;34m(\u001b[0m\u001b[0;34m'county.dbf'\u001b[0m\u001b[0;34m,\u001b[0m \u001b[0mreadOnly\u001b[0m\u001b[0;34m=\u001b[0m\u001b[0;36m1\u001b[0m\u001b[0;34m)\u001b[0m\u001b[0;34m\u001b[0m\u001b[0m\n\u001b[1;32m      6\u001b[0m \u001b[0;34m\u001b[0m\u001b[0m\n",
        "\u001b[0;31mNameError\u001b[0m: global name 'Dbf' is not defined"
       ]
      }
     ],
     "prompt_number": 210
    },
    {
     "cell_type": "code",
     "collapsed": false,
     "input": [],
     "language": "python",
     "metadata": {},
     "outputs": []
    },
    {
     "cell_type": "code",
     "collapsed": false,
     "input": [],
     "language": "python",
     "metadata": {},
     "outputs": []
    },
    {
     "cell_type": "code",
     "collapsed": false,
     "input": [],
     "language": "python",
     "metadata": {},
     "outputs": []
    },
    {
     "cell_type": "code",
     "collapsed": false,
     "input": [],
     "language": "python",
     "metadata": {},
     "outputs": []
    },
    {
     "cell_type": "code",
     "collapsed": false,
     "input": [],
     "language": "python",
     "metadata": {},
     "outputs": []
    },
    {
     "cell_type": "code",
     "collapsed": false,
     "input": [],
     "language": "python",
     "metadata": {},
     "outputs": []
    },
    {
     "cell_type": "code",
     "collapsed": false,
     "input": [],
     "language": "python",
     "metadata": {},
     "outputs": []
    },
    {
     "cell_type": "code",
     "collapsed": false,
     "input": [],
     "language": "python",
     "metadata": {},
     "outputs": []
    },
    {
     "cell_type": "markdown",
     "metadata": {},
     "source": [
      "###Number of cities"
     ]
    },
    {
     "cell_type": "code",
     "collapsed": false,
     "input": [],
     "language": "python",
     "metadata": {},
     "outputs": []
    },
    {
     "cell_type": "code",
     "collapsed": false,
     "input": [
      "osm_file = open(filename, \"r\")\n",
      "street_types = defaultdict(set)\n",
      "k_types= set()\n",
      "city_names=defaultdict(int)\n",
      "\n",
      "for event, elem in ET.iterparse(osm_file, events=(\"start\",)):\n",
      "\n",
      "    \n",
      "    \n",
      "    if elem.tag == \"node\" or elem.tag == \"way\":\n",
      "        for tag in elem.iter(\"tag\"):\n",
      "            k_types.add(tag.attrib['k'].lower())\n",
      "            if (tag.attrib['k'].lower() == \"addr:city\") | ((tag.attrib['k'].lower() == \"add:city\") ):\n",
      "                city_names[tag.attrib['v'].lower()]+=1\n",
      "            if is_street_name(tag):\n",
      "                audit_street_type(street_types, tag.attrib['v'])\n",
      "        elem.clear() # discard the element"
     ],
     "language": "python",
     "metadata": {},
     "outputs": [],
     "prompt_number": 204
    },
    {
     "cell_type": "code",
     "collapsed": false,
     "input": [
      "pprint.pprint(dict(city_names))"
     ],
     "language": "python",
     "metadata": {},
     "outputs": [
      {
       "output_type": "stream",
       "stream": "stdout",
       "text": [
        "{u'aldeia de carapicu\\xedba': 1,\n",
        " 'barueri': 12,\n",
        " u'carapicu\\xedba': 5,\n",
        " 'cotia': 7,\n",
        " 'diadema': 189,\n",
        " 'embu das artes': 11,\n",
        " 'ferraz de vasconcelos': 14,\n",
        " 'guarulhos': 98,\n",
        " 'maua': 3,\n",
        " u'mau\\xe1': 51,\n",
        " 'mooca': 1,\n",
        " 'osasco': 7,\n",
        " u'ribeir\\xe3o pires': 1,\n",
        " u'santana de parna\\xedba': 2,\n",
        " u'santo andr\\xe9': 117,\n",
        " 'sao bernardo do campo': 1,\n",
        " 'sao paolo': 1,\n",
        " 'sao paulo': 20,\n",
        " 'service': 2,\n",
        " u's\\xe3o bernardo do campo': 941,\n",
        " u's\\xe3o caetano do sul': 10,\n",
        " u's\\xe3o paulo': 2646,\n",
        " u's\\xe3o paulo - sp': 6,\n",
        " u's\\xe3o paulo/sp': 1,\n",
        " u'tabo\\xe3o da serra': 12}\n"
       ]
      }
     ],
     "prompt_number": 206
    },
    {
     "cell_type": "code",
     "collapsed": false,
     "input": [],
     "language": "python",
     "metadata": {},
     "outputs": []
    },
    {
     "cell_type": "code",
     "collapsed": false,
     "input": [],
     "language": "python",
     "metadata": {},
     "outputs": []
    },
    {
     "cell_type": "markdown",
     "metadata": {},
     "source": [
      "#####Character encoding hell"
     ]
    },
    {
     "cell_type": "code",
     "collapsed": false,
     "input": [],
     "language": "python",
     "metadata": {},
     "outputs": []
    },
    {
     "cell_type": "code",
     "collapsed": false,
     "input": [
      "unicode(name.strip(), 'utf_8')\n"
     ],
     "language": "python",
     "metadata": {},
     "outputs": [
      {
       "ename": "UnicodeDecodeError",
       "evalue": "'utf8' codec can't decode byte 0xe9 in position 3: invalid continuation byte",
       "output_type": "pyerr",
       "traceback": [
        "\u001b[0;31m---------------------------------------------------------------------------\u001b[0m\n\u001b[0;31mUnicodeDecodeError\u001b[0m                        Traceback (most recent call last)",
        "\u001b[0;32m<ipython-input-157-3e4ad1352e7b>\u001b[0m in \u001b[0;36m<module>\u001b[0;34m()\u001b[0m\n\u001b[0;32m----> 1\u001b[0;31m \u001b[0municode\u001b[0m\u001b[0;34m(\u001b[0m\u001b[0mname\u001b[0m\u001b[0;34m.\u001b[0m\u001b[0mstrip\u001b[0m\u001b[0;34m(\u001b[0m\u001b[0;34m)\u001b[0m\u001b[0;34m,\u001b[0m \u001b[0;34m'utf_8'\u001b[0m\u001b[0;34m)\u001b[0m\u001b[0;34m\u001b[0m\u001b[0m\n\u001b[0m",
        "\u001b[0;32m/opt/local/Library/Frameworks/Python.framework/Versions/2.7/lib/python2.7/encodings/utf_8.pyc\u001b[0m in \u001b[0;36mdecode\u001b[0;34m(input, errors)\u001b[0m\n\u001b[1;32m     14\u001b[0m \u001b[0;34m\u001b[0m\u001b[0m\n\u001b[1;32m     15\u001b[0m \u001b[0;32mdef\u001b[0m \u001b[0mdecode\u001b[0m\u001b[0;34m(\u001b[0m\u001b[0minput\u001b[0m\u001b[0;34m,\u001b[0m \u001b[0merrors\u001b[0m\u001b[0;34m=\u001b[0m\u001b[0;34m'strict'\u001b[0m\u001b[0;34m)\u001b[0m\u001b[0;34m:\u001b[0m\u001b[0;34m\u001b[0m\u001b[0m\n\u001b[0;32m---> 16\u001b[0;31m     \u001b[0;32mreturn\u001b[0m \u001b[0mcodecs\u001b[0m\u001b[0;34m.\u001b[0m\u001b[0mutf_8_decode\u001b[0m\u001b[0;34m(\u001b[0m\u001b[0minput\u001b[0m\u001b[0;34m,\u001b[0m \u001b[0merrors\u001b[0m\u001b[0;34m,\u001b[0m \u001b[0mTrue\u001b[0m\u001b[0;34m)\u001b[0m\u001b[0;34m\u001b[0m\u001b[0m\n\u001b[0m\u001b[1;32m     17\u001b[0m \u001b[0;34m\u001b[0m\u001b[0m\n\u001b[1;32m     18\u001b[0m \u001b[0;32mclass\u001b[0m \u001b[0mIncrementalEncoder\u001b[0m\u001b[0;34m(\u001b[0m\u001b[0mcodecs\u001b[0m\u001b[0;34m.\u001b[0m\u001b[0mIncrementalEncoder\u001b[0m\u001b[0;34m)\u001b[0m\u001b[0;34m:\u001b[0m\u001b[0;34m\u001b[0m\u001b[0m\n",
        "\u001b[0;31mUnicodeDecodeError\u001b[0m: 'utf8' codec can't decode byte 0xe9 in position 3: invalid continuation byte"
       ]
      }
     ],
     "prompt_number": 157
    },
    {
     "cell_type": "code",
     "collapsed": false,
     "input": [
      "str(name.strip())"
     ],
     "language": "python",
     "metadata": {},
     "outputs": [
      {
       "metadata": {},
       "output_type": "pyout",
       "prompt_number": 138,
       "text": [
        "'jac\\xc3\\xba pessego'"
       ]
      }
     ],
     "prompt_number": 138
    },
    {
     "cell_type": "code",
     "collapsed": false,
     "input": [
      "l=[x for x in problemchars.findall(s) if x !=' ']"
     ],
     "language": "python",
     "metadata": {},
     "outputs": [],
     "prompt_number": 149
    },
    {
     "cell_type": "code",
     "collapsed": false,
     "input": [
      "l"
     ],
     "language": "python",
     "metadata": {},
     "outputs": [
      {
       "metadata": {},
       "output_type": "pyout",
       "prompt_number": 150,
       "text": [
        "[]"
       ]
      }
     ],
     "prompt_number": 150
    },
    {
     "cell_type": "code",
     "collapsed": false,
     "input": [],
     "language": "python",
     "metadata": {},
     "outputs": [],
     "prompt_number": 95
    },
    {
     "cell_type": "code",
     "collapsed": false,
     "input": [
      "if x: print 'hit'"
     ],
     "language": "python",
     "metadata": {},
     "outputs": [
      {
       "output_type": "stream",
       "stream": "stdout",
       "text": [
        "hit\n"
       ]
      }
     ],
     "prompt_number": 97
    },
    {
     "cell_type": "code",
     "collapsed": false,
     "input": [],
     "language": "python",
     "metadata": {},
     "outputs": []
    },
    {
     "cell_type": "code",
     "collapsed": false,
     "input": [],
     "language": "python",
     "metadata": {},
     "outputs": []
    },
    {
     "cell_type": "code",
     "collapsed": false,
     "input": [],
     "language": "python",
     "metadata": {},
     "outputs": []
    },
    {
     "cell_type": "code",
     "collapsed": false,
     "input": [],
     "language": "python",
     "metadata": {},
     "outputs": []
    },
    {
     "cell_type": "code",
     "collapsed": false,
     "input": [],
     "language": "python",
     "metadata": {},
     "outputs": []
    },
    {
     "cell_type": "code",
     "collapsed": false,
     "input": [
      "import datetime\n",
      "from dbfpy import dbf"
     ],
     "language": "python",
     "metadata": {},
     "outputs": [],
     "prompt_number": 1
    },
    {
     "cell_type": "code",
     "collapsed": false,
     "input": [
      "db = dbf.Dbf(\"/Users/ucaiado/Documents/temp/LOG2014_CEM_RMSP.DBF\")"
     ],
     "language": "python",
     "metadata": {},
     "outputs": [],
     "prompt_number": 2
    },
    {
     "cell_type": "code",
     "collapsed": false,
     "input": [
      "i=0\n",
      "mySet=set()\n",
      "for rec in db:\n",
      "    #print rec\n",
      "    #if rec['NOME_TIT']:\n",
      "    #print unicode(rec['NOME_TIT'], 'latin1')\n",
      "    #print unicode(rec['NOME_ACEN'], 'latin1')\n",
      "    mySet.add(unicode(rec['NOME_ACEN'], 'latin1'))\n",
      "    #print \"\"\n",
      "    i+=1\n",
      "    \n",
      "    #if i==10: break"
     ],
     "language": "python",
     "metadata": {},
     "outputs": [],
     "prompt_number": 3
    },
    {
     "cell_type": "code",
     "collapsed": false,
     "input": [
      "len(mySet)\n"
     ],
     "language": "python",
     "metadata": {},
     "outputs": [
      {
       "metadata": {},
       "output_type": "pyout",
       "prompt_number": 12,
       "text": [
        "326826"
       ]
      }
     ],
     "prompt_number": 12
    },
    {
     "cell_type": "code",
     "collapsed": false,
     "input": [
      "i"
     ],
     "language": "python",
     "metadata": {},
     "outputs": [
      {
       "metadata": {},
       "output_type": "pyout",
       "prompt_number": 6,
       "text": [
        "326826"
       ]
      }
     ],
     "prompt_number": 6
    },
    {
     "cell_type": "code",
     "collapsed": false,
     "input": [],
     "language": "python",
     "metadata": {},
     "outputs": []
    },
    {
     "cell_type": "code",
     "collapsed": false,
     "input": [],
     "language": "python",
     "metadata": {},
     "outputs": []
    },
    {
     "cell_type": "code",
     "collapsed": false,
     "input": [],
     "language": "python",
     "metadata": {},
     "outputs": []
    },
    {
     "cell_type": "code",
     "collapsed": false,
     "input": [],
     "language": "python",
     "metadata": {},
     "outputs": [],
     "prompt_number": 12
    },
    {
     "cell_type": "markdown",
     "metadata": {},
     "source": [
      "###correcting accents"
     ]
    },
    {
     "cell_type": "code",
     "collapsed": false,
     "input": [],
     "language": "python",
     "metadata": {},
     "outputs": []
    },
    {
     "cell_type": "code",
     "collapsed": false,
     "input": [],
     "language": "python",
     "metadata": {},
     "outputs": []
    },
    {
     "cell_type": "code",
     "collapsed": false,
     "input": [],
     "language": "python",
     "metadata": {},
     "outputs": []
    },
    {
     "cell_type": "code",
     "collapsed": false,
     "input": [],
     "language": "python",
     "metadata": {},
     "outputs": []
    },
    {
     "cell_type": "code",
     "collapsed": false,
     "input": [],
     "language": "python",
     "metadata": {},
     "outputs": []
    },
    {
     "cell_type": "code",
     "collapsed": false,
     "input": [],
     "language": "python",
     "metadata": {},
     "outputs": []
    },
    {
     "cell_type": "code",
     "collapsed": false,
     "input": [
      "['avenida',\"alameda\",'largo','travessa','pra\\xe7a', 'via','viaduto','viela', 'estrada', 'rodovia', 'rua']"
     ],
     "language": "python",
     "metadata": {},
     "outputs": [
      {
       "metadata": {},
       "output_type": "pyout",
       "prompt_number": 51,
       "text": [
        "False"
       ]
      }
     ],
     "prompt_number": 51
    },
    {
     "cell_type": "code",
     "collapsed": false,
     "input": [
      "{'av': u'Avenida',\n",
      " 'al': u\"Alameda\",\n",
      " 'lgo': u'Largo',\n",
      " 'praca': u'Pra\\xe7a',\n",
      " 'r': u'Rua',\n",
      " 'rd': u'Rodovia'\n",
      " }"
     ],
     "language": "python",
     "metadata": {},
     "outputs": [],
     "prompt_number": 46
    },
    {
     "cell_type": "code",
     "collapsed": false,
     "input": [
      "u'P\u00e7'"
     ],
     "language": "python",
     "metadata": {},
     "outputs": [
      {
       "metadata": {},
       "output_type": "pyout",
       "prompt_number": 52,
       "text": [
        "u'P\\xe7'"
       ]
      }
     ],
     "prompt_number": 52
    },
    {
     "cell_type": "code",
     "collapsed": false,
     "input": [],
     "language": "python",
     "metadata": {},
     "outputs": []
    },
    {
     "cell_type": "code",
     "collapsed": false,
     "input": [
      "print u'Cant\\xeddio'\n"
     ],
     "language": "python",
     "metadata": {},
     "outputs": [
      {
       "output_type": "stream",
       "stream": "stdout",
       "text": [
        "Cant\u00eddio\n"
       ]
      }
     ],
     "prompt_number": 45
    },
    {
     "cell_type": "markdown",
     "metadata": {},
     "source": [
      "<em>CSS Style</em>\n",
      "\n",
      "\n",
      "<style type=\"text/css\">\n",
      "    \n",
      "    .rendered_html ol {list-style:decimal; margin: 1em 2em;}\n",
      "    \n",
      "    div.input{\n",
      "    width: 120ex;\n",
      "    }\n",
      "    \n",
      "    div.text_cell{\n",
      "    width: 120ex;\n",
      "    }\n",
      "    \n",
      "    div.text_cell_render{\n",
      "    font-family: \"Charis SIL\",serif;\n",
      "    line-height: 145%;\n",
      "    width: 125ex;\n",
      "    margin-left:2.1cm;\n",
      "    }\n",
      "\n",
      "    div.text_cell_render h1 {\n",
      "    font-size: 18pt;\n",
      "    }\n",
      "\n",
      "    div.text_cell_render h2 {\n",
      "    font-size: 14pt;\n",
      "    }\n",
      "\n",
      "    .CodeMirror {\n",
      "    font-family: Consolas, monospace;\n",
      "    }\n",
      "\n",
      "</style>\n",
      "\n",
      "\n",
      "<style type=\"text/css\">\n",
      "    table {\n",
      "\toverflow:hidden;\n",
      "    font-family: \"Lucida Sans Unicode\", \"Lucida Grande\", Sans-Serif;\n",
      "\tfont-size: 12px;\n",
      "\tmargin: 45px;\n",
      "\twidth: 480px;\n",
      "\ttext-align: left;\n",
      "\tborder-collapse: collapse;\n",
      "\tborder: 1px solid #d3d3d3;\n",
      "    -moz-border-radius:5px; FF1+;\n",
      "    -webkit-border-radius:5px; Saf3-4;\n",
      "    border-radius:5px;\n",
      "    -moz-box-shadow: 0 0 4px rgba(0, 0, 0, 0.01);    \n",
      "}\n",
      "th\n",
      "{\n",
      "\tpadding: 12px 17px 12px 17px;\n",
      "\tfont-weight: normal;\n",
      "\tfont-size: 14px;\n",
      "\tborder-bottom: 1px dashed #69c;\n",
      "}\n",
      "\n",
      "td\n",
      "{\n",
      "\tpadding: 7px 17px 7px 17px;\n",
      "\n",
      "}\n",
      "\n",
      "tbody tr:hover th\n",
      "{\n",
      "\n",
      "\tbackground:  #E9E9E9;\n",
      "}\n",
      "\n",
      "tbody tr:hover td\n",
      "{\n",
      "\n",
      "\tbackground:  #E9E9E9;\n",
      "}\n",
      "</style>"
     ]
    }
   ],
   "metadata": {}
  }
 ]
}
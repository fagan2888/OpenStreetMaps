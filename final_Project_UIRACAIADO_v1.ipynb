{
 "metadata": {
  "name": "",
  "signature": "sha256:8181eab1a799eaac4b142f465427c0d11bbe9047cc3f13f374a5203391b319b3"
 },
 "nbformat": 3,
 "nbformat_minor": 0,
 "worksheets": [
  {
   "cells": [
    {
     "cell_type": "markdown",
     "metadata": {},
     "source": [
      "\n",
      "\n",
      "\n",
      "\n",
      "\n",
      "# Data Wrangle OpenStreetMaps Data"
     ]
    },
    {
     "cell_type": "markdown",
     "metadata": {},
     "source": [
      "The first thing that I noticed when I started exploring the data about my city was that there were tons words wrongly accentuated or without special characteres. The grammar of Brazilian Portuguese is tricky, sometimes it is confusing.\n",
      "\n",
      "Bla bla bla2 <a href=\"http://www.quora.com/How-do-you-explain-Machine-Learning-and-Data-Mining-to-non-Computer-Science-people\">some link</a> source of the link.\n",
      "\n",
      "Bla Bla Bla3. \n",
      "\n",
      "###subtitle1 "
     ]
    },
    {
     "cell_type": "markdown",
     "metadata": {},
     "source": [
      "According to the <a href=\"http://www.fflch.usp.br/centrodametropole/en/716\">street dataset</a> documentation from Center for metropolitan Studies of S\u00e3o Paulo, the street names following the structure:\n",
      "       \n",
      "       [STREET TYPE] [NAME TITLE (optional)] [NAME] :\n",
      "       \n",
      "It can be observed in the given examples:\n",
      "\n",
      "    - Avenida Coronel Madeira. Avenida (avenue) is the Street Type; Coronel is the Title (colonel) and Medeira is the name.\n"
     ]
    },
    {
     "cell_type": "markdown",
     "metadata": {},
     "source": [
      "####TODO:\n",
      "\n",
      "    - I made a mistake at the code that I submited at Udacity. It took me a long time to realize that.\n",
      "    - Fix the cities names\n",
      "    - cross the CMS dataset to extract the correct neghboorhood based on the street name and the city name"
     ]
    },
    {
     "cell_type": "code",
     "collapsed": false,
     "input": [],
     "language": "python",
     "metadata": {},
     "outputs": []
    },
    {
     "cell_type": "code",
     "collapsed": false,
     "input": [],
     "language": "python",
     "metadata": {},
     "outputs": []
    },
    {
     "cell_type": "code",
     "collapsed": false,
     "input": [],
     "language": "python",
     "metadata": {},
     "outputs": []
    },
    {
     "cell_type": "code",
     "collapsed": false,
     "input": [],
     "language": "python",
     "metadata": {},
     "outputs": []
    },
    {
     "cell_type": "code",
     "collapsed": false,
     "input": [
      "# filename='c:/Users/Vera/Dropbox/NEUTRINO/ALGO/DATA/sao-paulo_brazil.osm'\n",
      "filename='/Users/ucaiado/Dropbox/NEUTRINO/ALGO/DATA/sao-paulo_brazil.osm'\n",
      "#filename='/Users/ucaiado/Documents/temp/map.osm-2.xml'\n",
      "# filename='/Users/ucaiado/Downloads/map'"
     ],
     "language": "python",
     "metadata": {},
     "outputs": [],
     "prompt_number": 351
    },
    {
     "cell_type": "markdown",
     "metadata": {},
     "source": [
      "source: http://eli.thegreenplace.net/2012/03/15/processing-xml-in-python-with-elementtree\n",
      "\n",
      "regular - expression: http://en.wikipedia.org/wiki/Regular_expression\n",
      "\n",
      "How many streets there are in Sao Paulo: http://super.abril.com.br/cultura/quantas-ruas-existem-sao-paulo-444417.shtml\n",
      "\n",
      "useful package: https://pypi.python.org/pypi/Unidecode/"
     ]
    },
    {
     "cell_type": "code",
     "collapsed": false,
     "input": [
      "import os\n",
      "import data_wrangling as reshape\n",
      "from data_wrangling import *reload(reshape);"
     ],
     "language": "python",
     "metadata": {},
     "outputs": [],
     "prompt_number": 392
    },
    {
     "cell_type": "markdown",
     "metadata": {},
     "source": [
      "<b>Some streets that have their names corrected:</b>\n",
      "<code>\n",
      "\n",
      "Av Jac\u00fa Pessego / Nova Trabalhadores => Avenida Jac\u00fa Pessego\n",
      "AV PEDROSO DE MORAIS => Avenida Pedroso De Morais\n",
      "Avenida Pres. Arthur Bernardes => Avenida Presidente Arthur Bernardes\n",
      "Al. Santos => Alameda Santos\n",
      "Av. Prof. L\u00facio Martins Rodrigues, travessas 4 e 5 => Avenida Professor L\u00facio Martins Rodrigues\n",
      "</code>\n",
      "\n",
      "<b>And some of the city names that have to be corrected:</b>\n",
      "<code>\n",
      "\n",
      "s\u00e3o paulo - sp => S\u00e3o Paulo\n",
      "s\u00e3o paulo/sp => S\u00e3o Paulo\n",
      "guaruja => Guaruj\u00e1\n",
      "</code>\n"
     ]
    },
    {
     "cell_type": "code",
     "collapsed": false,
     "input": [],
     "language": "python",
     "metadata": {},
     "outputs": []
    },
    {
     "cell_type": "code",
     "collapsed": false,
     "input": [],
     "language": "python",
     "metadata": {},
     "outputs": []
    },
    {
     "cell_type": "code",
     "collapsed": false,
     "input": [],
     "language": "python",
     "metadata": {},
     "outputs": []
    },
    {
     "cell_type": "code",
     "collapsed": false,
     "input": [],
     "language": "python",
     "metadata": {},
     "outputs": []
    },
    {
     "cell_type": "markdown",
     "metadata": {},
     "source": [
      "<b>Here is the size of the file</b>"
     ]
    },
    {
     "cell_type": "code",
     "collapsed": false,
     "input": [
      "print \"{} MB\".format(os.stat(filename).st_size/1024**2)"
     ],
     "language": "python",
     "metadata": {},
     "outputs": [
      {
       "output_type": "stream",
       "stream": "stdout",
       "text": [
        "315 MB\n"
       ]
      }
     ],
     "prompt_number": 396
    },
    {
     "cell_type": "markdown",
     "metadata": {},
     "source": [
      "<b>Some stats of the file</b>"
     ]
    },
    {
     "cell_type": "code",
     "collapsed": false,
     "input": [
      "%time reshape.initial_tests(filename)"
     ],
     "language": "python",
     "metadata": {},
     "outputs": [
      {
       "output_type": "stream",
       "stream": "stdout",
       "text": [
        "# of tags:\n",
        "{'bounds': 1,\n",
        " 'member': 38702,\n",
        " 'nd': 1826215,\n",
        " 'node': 1475441,\n",
        " 'osm': 1,\n",
        " 'relation': 4516,\n",
        " 'tag': 584178,\n",
        " 'way': 198120}\n",
        "\n",
        "\n",
        "# of potential problems on the data:"
       ]
      },
      {
       "output_type": "stream",
       "stream": "stdout",
       "text": [
        "\n",
        "{'lower': 554488, 'lower_colon': 28594, 'other': 1091, 'problemchars': 5}\n",
        "\n",
        "\n",
        "# of unique users that contributed to this map:\n",
        " 1189"
       ]
      },
      {
       "output_type": "stream",
       "stream": "stdout",
       "text": [
        "\n",
        "\n",
        "\n",
        "CPU times: user 48 s, sys: 464 ms, total: 48.4 s\n",
        "Wall time: 48.5 s\n"
       ]
      }
     ],
     "prompt_number": 387
    },
    {
     "cell_type": "code",
     "collapsed": false,
     "input": [
      "%time reshape.process_map(filename, pretty = False)"
     ],
     "language": "python",
     "metadata": {},
     "outputs": [
      {
       "output_type": "stream",
       "stream": "stdout",
       "text": [
        "# of documents created: 1673561\n",
        "# of different street names: 1533\n",
        "# of docs where the street name was fixed: 6310\n",
        "# of docs where the city name was fixed: 5048\n",
        "\n",
        "CPU times: user 1min 27s, sys: 6.39 s, total: 1min 34s\n",
        "Wall time: 1min 34s\n"
       ]
      }
     ],
     "prompt_number": 356
    },
    {
     "cell_type": "markdown",
     "metadata": {},
     "source": [
      "<b>I use the following code to insert the data into mongoDB.The insertion was quite fast...</b>\n",
      "<code>\n",
      "\n",
      "    mongoimport -db <DATABASE NAME> -c <COLLECTOIN NAME> --file /path/to/the/file.json\n",
      "</code>"
     ]
    },
    {
     "cell_type": "markdown",
     "metadata": {},
     "source": [
      "<b>Let's start connecting to my local database</b>"
     ]
    },
    {
     "cell_type": "code",
     "collapsed": false,
     "input": [
      "from pymongo import MongoClient\n",
      "client=MongoClient('localhost:27017')\n",
      "db=client.udacity"
     ],
     "language": "python",
     "metadata": {},
     "outputs": [],
     "prompt_number": 357
    },
    {
     "cell_type": "markdown",
     "metadata": {},
     "source": [
      "<b>check if I correct the city names correctly. Is expected 40 different city names</b>"
     ]
    },
    {
     "cell_type": "code",
     "collapsed": false,
     "input": [
      "pipeline=[\n",
      "            {\"$group\": {\"_id\": None, \"cities\":{\"$addToSet\":\"$address.city\"}}},\n",
      "            {\"$unwind\": \"$cities\"},\n",
      "            {\"$group\": { \"_id\": \"Total City Names in the data\", \"count\": { \"$sum\": 1 } } }\n",
      "          ]\n",
      "aggregate(db.osm, pipeline)"
     ],
     "language": "python",
     "metadata": {},
     "outputs": [
      {
       "metadata": {},
       "output_type": "pyout",
       "prompt_number": 375,
       "text": [
        "[{u'_id': u'Total City Names in the data', u'count': 40}]"
       ]
      }
     ],
     "prompt_number": 375
    },
    {
     "cell_type": "markdown",
     "metadata": {},
     "source": [
      "<b>The total number of different street names</b>"
     ]
    },
    {
     "cell_type": "code",
     "collapsed": false,
     "input": [
      "pipeline=[\n",
      "            {\"$group\": {\"_id\": None, \"street\":{\"$addToSet\":\"$address.street\"}}},\n",
      "            {\"$unwind\": \"$street\"},\n",
      "            {\"$group\": { \"_id\": \"Total number of different street names in the data\", \"count\": { \"$sum\": 1 } } }\n",
      "          ]\n",
      "pprint.pprint(aggregate(db.osm, pipeline)[0])\n"
     ],
     "language": "python",
     "metadata": {},
     "outputs": [
      {
       "output_type": "stream",
       "stream": "stdout",
       "text": [
        "{u'_id': u'Total number of different street names in the data', u'count': 1533}\n"
       ]
      }
     ],
     "prompt_number": 379
    },
    {
     "cell_type": "markdown",
     "metadata": {},
     "source": [
      "<b>And finally, just to make sure that the OSM file was correctly process by my codes, here is the number of unique users shown in database:</b>"
     ]
    },
    {
     "cell_type": "code",
     "collapsed": false,
     "input": [
      "pipeline=[\n",
      "            {\"$match\": {\"type\": \"node\"}},\n",
      "            {\"$group\": {\"_id\": None, \"user\":{\"$addToSet\":\"$created.uid\"}}},\n",
      "            {\"$unwind\": \"$user\"},\n",
      "            {\"$group\": { \"_id\": \"Number of unique user in the data\", \"count\": { \"$sum\": 1 } } }\n",
      "          ]\n",
      "pprint.pprint(aggregate(db.osm, pipeline)[0])"
     ],
     "language": "python",
     "metadata": {},
     "outputs": [
      {
       "output_type": "stream",
       "stream": "stdout",
       "text": [
        "{u'_id': u'Number of unique user in the data', u'count': 1189}\n"
       ]
      }
     ],
     "prompt_number": 390
    },
    {
     "cell_type": "code",
     "collapsed": false,
     "input": [],
     "language": "python",
     "metadata": {},
     "outputs": [],
     "prompt_number": 399
    },
    {
     "cell_type": "markdown",
     "metadata": {},
     "source": [
      "<b>As you sow, There are 40 different cities in the database. I would like to know the top 5 amenities on each city querryng directly on MongoDB. It was tricky...</b>\n",
      "\n",
      "<b>First, I aggregate the data as usual:</b>"
     ]
    },
    {
     "cell_type": "code",
     "collapsed": false,
     "input": [
      "pipeline=[\n",
      "            {\"$match\":{\"amenity\":{\"$exists\":1}}},\n",
      "            {\"$match\":{\"address.city\":{\"$exists\":1}}},\n",
      "            {\"$group\": {\"_id\":{\"city\":\"$address.city\", \"amenity\":\"$amenity\"}, \"count\": {\"$sum\":1}}},\n",
      "            {\"$sort\" : {\"count\" : -1}},\n",
      "            {\"$project\": {\"city\": '$_id.city', 'amenity': '$_id.amenity', 'count':'$count'}},\n",
      "            {\"$group\":{'_id':\"$city\", 'result':{'$push':{\"amenity\":\"$amenity\",\"count\":\"$count\"}}}},\n",
      "            {\"$out\": \"osm_aux\"}\n",
      "          ]\n",
      "\n",
      "\n"
     ],
     "language": "python",
     "metadata": {},
     "outputs": [],
     "prompt_number": 492
    },
    {
     "cell_type": "code",
     "collapsed": false,
     "input": [
      "x=aggregate(db.osm, pipeline)"
     ],
     "language": "python",
     "metadata": {},
     "outputs": [],
     "prompt_number": 493
    },
    {
     "cell_type": "markdown",
     "metadata": {},
     "source": [
      "<b>As you can notice, I add a diffetent phase to my pipeline, \"$out\", in order to attchied what I want. I took this approach from [here](http://stackoverflow.com/questions/25711657/mongodb-limit-array-within-aggregate-query). Roughly, it inserts the result of the aggregation stage to a different collection. Then, I can perform different operations to the newest collection created. I just will update my entire collection to limit the size of each result list to 5.</b>"
     ]
    },
    {
     "cell_type": "code",
     "collapsed": false,
     "input": [
      "my_collection=db.osm_aux\n",
      "my_collection.update({},{\"$push\" : {\"result\": {\"$each\": [], \"$slice\":5}}},multi=True)"
     ],
     "language": "python",
     "metadata": {},
     "outputs": [
      {
       "metadata": {},
       "output_type": "pyout",
       "prompt_number": 494,
       "text": [
        "{u'n': 29, u'nModified': 7, u'ok': 1, 'updatedExisting': True}"
       ]
      }
     ],
     "prompt_number": 494
    },
    {
     "cell_type": "code",
     "collapsed": false,
     "input": [
      "for x in my_collection.find():\n",
      "    print \"city: \" + (x[\"_id\"])\n",
      "    pprint.pprint(x[\"result\"])\n",
      "    print \"\""
     ],
     "language": "python",
     "metadata": {},
     "outputs": [
      {
       "output_type": "stream",
       "stream": "stdout",
       "text": [
        "city: Aruj\u00e1\n",
        "[{u'amenity': u'Restaurant', u'count': 1}]\n",
        "\n",
        "city: Jacare\u00ed\n",
        "[{u'amenity': u'Place_Of_Worship', u'count': 1}]\n",
        "\n",
        "city: Barueri\n",
        "[{u'amenity': u'Bank', u'count': 2}]\n",
        "\n",
        "city: Santos\n",
        "[{u'amenity': u'Pharmacy', u'count': 3},\n",
        " {u'amenity': u'Restaurant', u'count': 2},\n",
        " {u'amenity': u'Bank', u'count': 2},\n",
        " {u'amenity': u'Place_Of_Worship', u'count': 1},\n",
        " {u'amenity': u'Fast_Food', u'count': 1}]\n",
        "\n",
        "city: Mau\u00e1\n",
        "[{u'amenity': u'School', u'count': 1},\n",
        " {u'amenity': u'Place_Of_Worship', u'count': 1}]\n",
        "\n",
        "city: Itaquaquecetuba\n",
        "[{u'amenity': u'Fast_Food', u'count': 1}]\n",
        "\n",
        "city: Ferraz De Vasconcelos\n",
        "[{u'amenity': u'Place_Of_Worship', u'count': 1},\n",
        " {u'amenity': u'School', u'count': 1}]\n",
        "\n",
        "city: S\u00e3o Vicente\n",
        "[{u'amenity': u'Hospital', u'count': 1}]\n",
        "\n",
        "city: It\u00fa\n",
        "[{u'amenity': u'Place_Of_Worship', u'count': 1}]\n",
        "\n",
        "city: Cubat\u00e3o\n",
        "[{u'amenity': u'Place_Of_Worship', u'count': 1}]\n",
        "\n",
        "city: Jundia\u00ed\n",
        "[{u'amenity': u'Grave_Yard', u'count': 1},\n",
        " {u'amenity': u'Fuel', u'count': 1},\n",
        " {u'amenity': u'Place_Of_Worship', u'count': 1},\n",
        " {u'amenity': u'Clinic', u'count': 1},\n",
        " {u'amenity': u'Townhall', u'count': 1}]\n",
        "\n",
        "city: Ibi\u00fana\n",
        "[{u'amenity': u'Public_Building', u'count': 1}]\n",
        "\n",
        "city: Carapicu\u00edba\n",
        "[{u'amenity': u'College', u'count': 1}]\n",
        "\n",
        "city: Osasco\n",
        "[{u'amenity': u'Hospital', u'count': 1}, {u'amenity': u'School', u'count': 1}]\n",
        "\n",
        "city: Francisco Morato\n",
        "[{u'amenity': u'School', u'count': 1}]\n",
        "\n",
        "city: Mogi Das Cruzes\n",
        "[{u'amenity': u'Hospital', u'count': 1}, {u'amenity': u'Cafe', u'count': 1}]\n",
        "\n",
        "city: S\u00e3o Caetano Do Sul\n",
        "[{u'amenity': u'College', u'count': 2},\n",
        " {u'amenity': u'Restaurant', u'count': 1},\n",
        " {u'amenity': u'Pharmacy', u'count': 1},\n",
        " {u'amenity': u'Hospital', u'count': 1},\n",
        " {u'amenity': u'School', u'count': 1}]\n",
        "\n",
        "city: S\u00e3o Bernardo Do Campo\n",
        "[{u'amenity': u'Parking', u'count': 94},\n",
        " {u'amenity': u'School', u'count': 92},\n",
        " {u'amenity': u'Fuel', u'count': 61},\n",
        " {u'amenity': u'Restaurant', u'count': 61},\n",
        " {u'amenity': u'Bank', u'count': 55}]\n",
        "\n",
        "city: Embu Das Artes\n",
        "[{u'amenity': u'Bank', u'count': 4},\n",
        " {u'amenity': u'Parking', u'count': 4},\n",
        " {u'amenity': u'Arts_Centre', u'count': 1},\n",
        " {u'amenity': u'Place_Of_Worship', u'count': 1}]\n",
        "\n",
        "city: Guarulhos\n",
        "[{u'amenity': u'Fuel', u'count': 3},\n",
        " {u'amenity': u'School', u'count': 2},\n",
        " {u'amenity': u'University', u'count': 2},\n",
        " {u'amenity': u'Place_Of_Worship', u'count': 2},\n",
        " {u'amenity': u'Fire_Station', u'count': 1}]\n",
        "\n",
        "city: Mairipor\u00e3\n",
        "[{u'amenity': u'Parking', u'count': 1}]\n",
        "\n",
        "city: S\u00e3o Jos\u00e9 Dos Campos\n",
        "[{u'amenity': u'Community_Centre', u'count': 2},\n",
        " {u'amenity': u'Hospital', u'count': 1},\n",
        " {u'amenity': u'Place_Of_Worship', u'count': 1},\n",
        " {u'amenity': u'Cafe', u'count': 1},\n",
        " {u'amenity': u'Dentist', u'count': 1}]\n",
        "\n",
        "city: Cotia\n",
        "[{u'amenity': u'Place_Of_Worship', u'count': 2},\n",
        " {u'amenity': u'Pharmacy', u'count': 2},\n",
        " {u'amenity': u'Bank', u'count': 1},\n",
        " {u'amenity': u'Fuel', u'count': 1}]\n",
        "\n",
        "city: Suzano\n",
        "[{u'amenity': u'Fuel', u'count': 1}]\n",
        "\n",
        "city: Itanha\u00e9m\n",
        "[{u'amenity': u'Townhall', u'count': 1}]\n",
        "\n",
        "city: Diadema\n",
        "[{u'amenity': u'Fuel', u'count': 16},\n",
        " {u'amenity': u'Place_Of_Worship', u'count': 13},\n",
        " {u'amenity': u'Bank', u'count': 12},\n",
        " {u'amenity': u'School', u'count': 8},\n",
        " {u'amenity': u'Restaurant', u'count': 7}]\n",
        "\n",
        "city: Santo Andr\u00e9\n",
        "[{u'amenity': u'Bank', u'count': 28},\n",
        " {u'amenity': u'School', u'count': 9},\n",
        " {u'amenity': u'Post_Office', u'count': 8},\n",
        " {u'amenity': u'Restaurant', u'count': 5},\n",
        " {u'amenity': u'Place_Of_Worship', u'count': 5}]\n",
        "\n",
        "city: S\u00e3o Paulo\n",
        "[{u'amenity': u'Restaurant', u'count': 97},\n",
        " {u'amenity': u'School', u'count': 70},\n",
        " {u'amenity': u'Fuel', u'count': 57},\n",
        " {u'amenity': u'Bank', u'count': 50},\n",
        " {u'amenity': u'Parking', u'count': 49}]\n",
        "\n",
        "city: Tabo\u00e3o Da Serra\n",
        "[{u'amenity': u'Fuel', u'count': 1}, {u'amenity': u'School', u'count': 1}]\n",
        "\n"
       ]
      }
     ],
     "prompt_number": 495
    },
    {
     "cell_type": "markdown",
     "metadata": {},
     "source": [
      "<b>And Voil\u00e0, here is the top 5 amenities by city. Now, summing up just these top 5:</b>"
     ]
    },
    {
     "cell_type": "code",
     "collapsed": false,
     "input": [
      "pipeline=[\n",
      "            {\"$unwind\": \"$result\"},\n",
      "            {\"$group\": {\"_id\":\"$_id\", \"sum\": {\"$sum\":\"$result.count\"}}},\n",
      "            {\"$sort\" : {\"sum\" : -1}},\n",
      "            {\"$limit\": 10}\n",
      "          ]"
     ],
     "language": "python",
     "metadata": {},
     "outputs": [],
     "prompt_number": 551
    },
    {
     "cell_type": "code",
     "collapsed": false,
     "input": [
      "x=aggregate(db.osm_aux, pipeline)"
     ],
     "language": "python",
     "metadata": {},
     "outputs": [],
     "prompt_number": 549
    },
    {
     "cell_type": "code",
     "collapsed": false,
     "input": [
      "pprint.pprint(x)"
     ],
     "language": "python",
     "metadata": {},
     "outputs": [
      {
       "output_type": "stream",
       "stream": "stdout",
       "text": [
        "[{u'_id': u'S\\xe3o Bernardo Do Campo', u'sum': 363},\n",
        " {u'_id': u'S\\xe3o Paulo', u'sum': 323},\n",
        " {u'_id': u'Diadema', u'sum': 56},\n",
        " {u'_id': u'Santo Andr\\xe9', u'sum': 55},\n",
        " {u'_id': u'Guarulhos', u'sum': 10},\n",
        " {u'_id': u'Embu Das Artes', u'sum': 10},\n",
        " {u'_id': u'Santos', u'sum': 9},\n",
        " {u'_id': u'S\\xe3o Caetano Do Sul', u'sum': 6},\n",
        " {u'_id': u'Cotia', u'sum': 6},\n",
        " {u'_id': u'S\\xe3o Jos\\xe9 Dos Campos', u'sum': 6}]\n"
       ]
      }
     ],
     "prompt_number": 550
    },
    {
     "cell_type": "markdown",
     "metadata": {},
     "source": [
      "<b>And finally, as the new collection already fullfuield its mission, I can just drop it.<b>"
     ]
    },
    {
     "cell_type": "code",
     "collapsed": false,
     "input": [
      "my_collection.drop()"
     ],
     "language": "python",
     "metadata": {},
     "outputs": [],
     "prompt_number": 487
    },
    {
     "cell_type": "markdown",
     "metadata": {},
     "source": [
      "<b>The result found is curious, because the top 5 most frequently amenities are not in S\u00e3o Paulo, but in S\u00e3o Bernardo do Campo, that is near S\u00e3o Paulo. And the most frequent amenity in S\u00e3o Bernardo is...parking."
     ]
    },
    {
     "cell_type": "code",
     "collapsed": false,
     "input": [],
     "language": "python",
     "metadata": {},
     "outputs": []
    },
    {
     "cell_type": "code",
     "collapsed": false,
     "input": [],
     "language": "python",
     "metadata": {},
     "outputs": []
    },
    {
     "cell_type": "code",
     "collapsed": false,
     "input": [],
     "language": "python",
     "metadata": {},
     "outputs": []
    },
    {
     "cell_type": "code",
     "collapsed": false,
     "input": [],
     "language": "python",
     "metadata": {},
     "outputs": []
    },
    {
     "cell_type": "code",
     "collapsed": false,
     "input": [],
     "language": "python",
     "metadata": {},
     "outputs": []
    },
    {
     "cell_type": "code",
     "collapsed": false,
     "input": [],
     "language": "python",
     "metadata": {},
     "outputs": []
    },
    {
     "cell_type": "code",
     "collapsed": false,
     "input": [],
     "language": "python",
     "metadata": {},
     "outputs": []
    },
    {
     "cell_type": "code",
     "collapsed": false,
     "input": [],
     "language": "python",
     "metadata": {},
     "outputs": []
    },
    {
     "cell_type": "code",
     "collapsed": false,
     "input": [],
     "language": "python",
     "metadata": {},
     "outputs": []
    },
    {
     "cell_type": "code",
     "collapsed": false,
     "input": [],
     "language": "python",
     "metadata": {},
     "outputs": []
    },
    {
     "cell_type": "code",
     "collapsed": false,
     "input": [
      "             {\"$match\": {\"type\": \"node\"}},\n",
      "            {\"$group\": {\"_id\": None, \"user\":{\"$addToSet\":\"$created.uid\"}}},\n",
      "            {\"$unwind\": \"$user\"},\n",
      "            {\"$group\": { \"_id\": \"Number of unique user in the data\", \"count\": { \"$sum\": 1 } } }"
     ],
     "language": "python",
     "metadata": {},
     "outputs": []
    },
    {
     "cell_type": "code",
     "collapsed": false,
     "input": [
      "            {\"$group\": {\"_id\": None, \"user\":{\"$addToSet\":\"$created.uid\"}}},\n",
      "            {\"$unwind\": \"$user\"},\n",
      "            {\"$group\": { \"_id\": \"Number of unique user in the data\", \"count\": { \"$sum\": 1 } } }"
     ],
     "language": "python",
     "metadata": {},
     "outputs": []
    },
    {
     "cell_type": "markdown",
     "metadata": {},
     "source": []
    },
    {
     "cell_type": "code",
     "collapsed": false,
     "input": [
      "db.char.aggregate([, {\"$group\":{\"_id\":\"$amenity\",\n",
      "\"count\":{\"$sum\":1}}}, {\"$sort\":{\"count\":1}}, {\"$limit\":10}])"
     ],
     "language": "python",
     "metadata": {},
     "outputs": []
    },
    {
     "cell_type": "code",
     "collapsed": false,
     "input": [],
     "language": "python",
     "metadata": {},
     "outputs": []
    },
    {
     "cell_type": "code",
     "collapsed": false,
     "input": [],
     "language": "python",
     "metadata": {},
     "outputs": []
    },
    {
     "cell_type": "code",
     "collapsed": false,
     "input": [
      "var aggregated = db.coll.aggregate(\n",
      "{$group: {_id:{device:\"$device\", fps:\"$fps\"}, count: {$sum:1}}},\n",
      "{$project: {device: '$_id.device', fps: '$_id.fps', count:'$count'}},\n",
      "{$group:{_id:\"$device\", result:{$push:{\"fps\":\"$fps\",\"count\":\"$count\"}}}}\n",
      ")"
     ],
     "language": "python",
     "metadata": {},
     "outputs": []
    },
    {
     "cell_type": "code",
     "collapsed": false,
     "input": [],
     "language": "python",
     "metadata": {},
     "outputs": []
    },
    {
     "cell_type": "code",
     "collapsed": false,
     "input": [
      "len(d[0]['cities'])"
     ],
     "language": "python",
     "metadata": {},
     "outputs": [
      {
       "metadata": {},
       "output_type": "pyout",
       "prompt_number": 365,
       "text": [
        "40"
       ]
      }
     ],
     "prompt_number": 365
    },
    {
     "cell_type": "code",
     "collapsed": false,
     "input": [],
     "language": "python",
     "metadata": {},
     "outputs": []
    },
    {
     "cell_type": "code",
     "collapsed": false,
     "input": [],
     "language": "python",
     "metadata": {},
     "outputs": []
    },
    {
     "cell_type": "code",
     "collapsed": false,
     "input": [
      "pipeline=[\n",
      "          {\"$match\": {\"address.city\": u'S\\xe3o Paulo'}},\n",
      "          {\"$group\":{\"_id\": \"$amenity\",\"count\":{\"$sum\":1}}},\n",
      "          {\"$sort\" : {\"count\" : -1}},\n",
      "          {\"$skip\" : 1}\n",
      "        ]"
     ],
     "language": "python",
     "metadata": {},
     "outputs": [],
     "prompt_number": 251
    },
    {
     "cell_type": "code",
     "collapsed": false,
     "input": [
      "pipeline=[\n",
      "            {\n",
      "                \"$group\" : {\n",
      "                   \"_id\" : { \"city\": \"$address.city\", \"amenity\": \"$amenity\"},\n",
      "                   \"count\": { \"$sum\": 1 }\n",
      "                }\n",
      "            }\n",
      "        ]"
     ],
     "language": "python",
     "metadata": {},
     "outputs": [],
     "prompt_number": 263
    },
    {
     "cell_type": "code",
     "collapsed": false,
     "input": [
      "pipeline=[{ \"$group\" : { \"_id\" : \"$address.city\", \"amenity\": { \"$push\": \"$amenity\" } } }]"
     ],
     "language": "python",
     "metadata": {},
     "outputs": [],
     "prompt_number": 266
    },
    {
     "cell_type": "code",
     "collapsed": false,
     "input": [
      "{\n",
      "    \"$group\" : {\n",
      "       \"_id\" : { \"city\": \"$address.city\", \"amenity\": \"$amenity\"},\n",
      "       \"count\": { \"$sum\": 1 }\n",
      "    }\n",
      "}"
     ],
     "language": "python",
     "metadata": {},
     "outputs": [
      {
       "ename": "SyntaxError",
       "evalue": "invalid syntax (<ipython-input-257-52d53620d768>, line 1)",
       "output_type": "pyerr",
       "traceback": [
        "\u001b[0;36m  File \u001b[0;32m\"<ipython-input-257-52d53620d768>\"\u001b[0;36m, line \u001b[0;32m1\u001b[0m\n\u001b[0;31m    $group : {\u001b[0m\n\u001b[0m    ^\u001b[0m\n\u001b[0;31mSyntaxError\u001b[0m\u001b[0;31m:\u001b[0m invalid syntax\n"
       ]
      }
     ],
     "prompt_number": 257
    },
    {
     "cell_type": "code",
     "collapsed": false,
     "input": [],
     "language": "python",
     "metadata": {},
     "outputs": []
    },
    {
     "cell_type": "code",
     "collapsed": false,
     "input": [],
     "language": "python",
     "metadata": {},
     "outputs": [],
     "prompt_number": 55
    },
    {
     "cell_type": "code",
     "collapsed": false,
     "input": [
      "st_types = audit(filename)\n",
      "d_newName=defaultdict(str)\n",
      "for st_type, ways in st_types.iteritems():\n",
      "    for name in ways:\n",
      "        better_name = update_name_and_titles(name, mapping, mapping_title)\n",
      "        d_newName[name.lower()]=better_name\n",
      "        if better_name:print name, \"=>\", better_name"
     ],
     "language": "python",
     "metadata": {},
     "outputs": [
      {
       "output_type": "stream",
       "stream": "stdout",
       "text": [
        "Av Guap\u00e9 => Avenida Guap\u00e9\n",
        "Av Jac\u00fa Pessego / Nova Trabalhadores => Avenida Jac\u00fa Pessego\n",
        "AV PEDROSO DE MORAIS => Avenida Pedroso De Morais\n",
        "Avenida Pres. Arthur Bernardes => Avenida Presidente Arthur Bernardes\n",
        "Avenida Dr. Jos\u00e9 Fomari => Avenida Doutor Jos\u00e9 Fomari\n",
        "Avenida Eng. George Corbisier => Avenida Engenheiro George Corbisier\n",
        "Avenida Prof. Luiz Ignacio Anhaia Mello => Avenida Professor Luiz Ignacio Anhaia Mello\n",
        "Avenida Prof. Vicente R\u00e1o => Avenida Professor Vicente R\u00e1o\n",
        "Avenida Dr. Carlos de Campos => Avenida Doutor Carlos De Campos\n",
        "Avenida Eng. Lu\u00eds Carlos Berrini => Avenida Engenheiro Lu\u00eds Carlos Berrini\n",
        "Avenida Eng Luis Carlos Berrini => Avenida Engenheiro Luis Carlos Berrini\n",
        "Avenida Dr. Assis Ribeiro => Avenida Doutor Assis Ribeiro\n",
        "Avenida Dr. Thomaz Rodrigues da Cruz => Avenida Doutor Thomaz Rodrigues Da Cruz\n",
        "Avenida Sen. Vergueiro => Avenida Senador Vergueiro\n",
        "Al. Santos => Alameda Santos\n",
        "Al. Jauaperi => Alameda Jauaperi\n",
        "Al. Lorena => Alameda Lorena\n",
        "Al. Jos\u00e9 Maria Lisboa => Alameda Jos\u00e9 Maria Lisboa\n",
        "Al. Sarutai\u00e1 => Alameda Sarutai\u00e1\n",
        "Al. Joaquim Eug\u00eanio de Lima => Alameda Joaquim Eug\u00eanio De Lima\n",
        "Al. Pamplona => Alameda Pamplona\n",
        "Al. Barros => Alameda Barros\n",
        "Praca Professor Reinaldo Porchat de Assis => Pra\u00e7a Professor Reinaldo Porchat De Assis\n",
        "Rua Dr. Ildefonso Sim\u00f5es Lopes => Rua Doutor Ildefonso Sim\u00f5es Lopes\n",
        "Rua Dr. Penaforte mendes => Rua Doutor Penaforte Mendes\n",
        "Rua Dr. Jos\u00e9 Vicente => Rua Doutor Jos\u00e9 Vicente\n",
        "Rua Dr. Almeida Lima => Rua Doutor Almeida Lima\n",
        "Rua Dr. Oscar Fernandes Martins => Rua Doutor Oscar Fernandes Martins\n",
        "Rua Dr. Jorge de Oliveira Coutinho => Rua Doutor Jorge De Oliveira Coutinho\n",
        "Rua Dr Jose Gravonski => Rua Doutor Jose Gravonski\n",
        "Rua Dr. Barros Cruz => Rua Doutor Barros Cruz\n",
        "Rua Eng. Lu\u00eds Ant\u00f4nio Rantin Moutinho => Rua Engenheiro Lu\u00eds Ant\u00f4nio Rantin Moutinho\n",
        "Rua Cel. Diogo => Rua Coronel Diogo\n",
        "Rua Prof. Sebasti\u00e3o Farias de Queiroz => Rua Professor Sebasti\u00e3o Farias De Queiroz\n",
        "Av. Ant\u00f4nio Joaquim de Moura Andrade => Avenida Ant\u00f4nio Joaquim De Moura Andrade\n",
        "Av. Santo Amaro => Avenida Santo Amaro\n",
        "Av. Prof. L\u00facio Martins Rodrigues, travessas 4 e 5 => Avenida Professor L\u00facio Martins Rodrigues\n",
        "Av. Francisco N\u00f3brega Barbosa => Avenida Francisco N\u00f3brega Barbosa\n",
        "Av. Francisco Matarazzo => Avenida Francisco Matarazzo\n",
        "R RESTINGA => Rua Restinga\n",
        "R COJUBA => Rua Cojuba\n",
        "R. Ant\u00f4nio Barroso Barreto => Rua Ant\u00f4nio Barroso Barreto\n"
       ]
      }
     ],
     "prompt_number": 216
    },
    {
     "cell_type": "code",
     "collapsed": false,
     "input": [],
     "language": "python",
     "metadata": {},
     "outputs": []
    },
    {
     "cell_type": "code",
     "collapsed": false,
     "input": [],
     "language": "python",
     "metadata": {},
     "outputs": []
    },
    {
     "cell_type": "code",
     "collapsed": false,
     "input": [],
     "language": "python",
     "metadata": {},
     "outputs": []
    },
    {
     "cell_type": "code",
     "collapsed": false,
     "input": [],
     "language": "python",
     "metadata": {},
     "outputs": [],
     "prompt_number": 150
    },
    {
     "cell_type": "code",
     "collapsed": false,
     "input": [
      "print u'ibi\\xfana-sp'"
     ],
     "language": "python",
     "metadata": {},
     "outputs": [
      {
       "output_type": "stream",
       "stream": "stdout",
       "text": [
        "ibi\u00fana-sp\n"
       ]
      }
     ],
     "prompt_number": 223
    },
    {
     "cell_type": "code",
     "collapsed": false,
     "input": [
      "d_wrong={  'aruja': u\"Aruj\u00e1\",\n",
      " 'itu': u\"It\u00fa\",\n",
      "'maua': u\"Mau\u00e1\",\n",
      " 'sao bernardo do campo': u\"S\u00e3o Bernado do Campo\",\n",
      " 'sao jose dos campos': u\"S\u00e3o Jos\u00e9 dos Campos\",\n",
      " 'sao paolo': u\"S\u00e3o Paulo\",\n",
      " 'sao paulo': u\"S\u00e3o Paulo\",\n",
      " 'sao vicente': u\"S\u00e3o Vicente\",\n",
      " u's\\xe3o paulo - sp': u\"S\u00e3o Paulo\",\n",
      " u's\\xe3o paulo/sp': u\"S\u00e3o Paulo\", \n",
      "  'guaruja': u\"Guaruj\u00e1\",\n",
      "   u'ibi\\xfana-sp': u\"Ibi\u00fana\" ,\n",
      "}"
     ],
     "language": "python",
     "metadata": {},
     "outputs": [
      {
       "output_type": "stream",
       "stream": "stdout",
       "text": [
        "alum\u00ednio\n"
       ]
      }
     ],
     "prompt_number": 220
    },
    {
     "cell_type": "code",
     "collapsed": false,
     "input": [
      "l_right=[u'aldeia de carapicu\\xedba',\n",
      " u'aruj\\xe1',\n",
      " 'atibaia',\n",
      " 'barueri',\n",
      " 'bertioga',\n",
      " 'cajamar',\n",
      " 'campo limpo paulista',\n",
      " u'carapicu\\xedba',\n",
      " 'cotia',\n",
      " u'cubat\\xe3o',\n",
      " 'diadema',\n",
      " 'embu das artes',\n",
      " 'ferraz de vasconcelos',\n",
      " 'francisco morato',\n",
      " u'guaruj\\xe1',\n",
      " 'guarulhos',\n",
      " u'igarat\\xe1',\n",
      " u'itanha\\xe9m',\n",
      " 'itaquaquecetuba',\n",
      " 'itu',\n",
      " u'jacare\\xed',\n",
      " u'jundia\\xed',\n",
      " u'mairipor\\xe3',\n",
      " u'mau\\xe1',\n",
      " 'mogi das cruzes',\n",
      " 'osasco',\n",
      " u'ribeir\\xe3o pires',\n",
      " u'santana de parna\\xedba',\n",
      " u'santo andr\\xe9',\n",
      " 'santos',\n",
      " 'suzano',\n",
      " u's\\xe3o bernardo do campo',\n",
      " u's\\xe3o caetano do sul',\n",
      " u's\\xe3o jos\\xe9 dos campos',\n",
      " u's\\xe3o paulo',\n",
      " u's\\xe3o roque',\n",
      " u's\\xe3o vicente',\n",
      " u'tabo\\xe3o da serra',\n",
      " 'varzea paulista']"
     ],
     "language": "python",
     "metadata": {},
     "outputs": [],
     "prompt_number": 335
    },
    {
     "cell_type": "code",
     "collapsed": false,
     "input": [
      "len(l_right)"
     ],
     "language": "python",
     "metadata": {},
     "outputs": [
      {
       "metadata": {},
       "output_type": "pyout",
       "prompt_number": 336,
       "text": [
        "39"
       ]
      }
     ],
     "prompt_number": 336
    },
    {
     "cell_type": "code",
     "collapsed": false,
     "input": [],
     "language": "python",
     "metadata": {},
     "outputs": []
    },
    {
     "cell_type": "code",
     "collapsed": false,
     "input": [],
     "language": "python",
     "metadata": {},
     "outputs": []
    },
    {
     "cell_type": "code",
     "collapsed": false,
     "input": [
      "' '.join(word.title() if len(word) > 3 else word for word in line.split()) \n"
     ],
     "language": "python",
     "metadata": {},
     "outputs": []
    },
    {
     "cell_type": "code",
     "collapsed": false,
     "input": [],
     "language": "python",
     "metadata": {},
     "outputs": []
    },
    {
     "cell_type": "code",
     "collapsed": false,
     "input": [],
     "language": "python",
     "metadata": {},
     "outputs": []
    },
    {
     "cell_type": "code",
     "collapsed": false,
     "input": [],
     "language": "python",
     "metadata": {},
     "outputs": []
    },
    {
     "cell_type": "code",
     "collapsed": false,
     "input": [],
     "language": "python",
     "metadata": {},
     "outputs": []
    },
    {
     "cell_type": "code",
     "collapsed": false,
     "input": [],
     "language": "python",
     "metadata": {},
     "outputs": []
    },
    {
     "cell_type": "code",
     "collapsed": false,
     "input": [],
     "language": "python",
     "metadata": {},
     "outputs": []
    },
    {
     "cell_type": "code",
     "collapsed": false,
     "input": [],
     "language": "python",
     "metadata": {},
     "outputs": []
    },
    {
     "cell_type": "markdown",
     "metadata": {},
     "source": [
      "<em>CSS Style</em>\n",
      "\n",
      "\n",
      "<style type=\"text/css\">\n",
      "    \n",
      "    .rendered_html ol {list-style:decimal; margin: 1em 2em;}\n",
      "    \n",
      "    div.input{\n",
      "    width: 120ex;\n",
      "    }\n",
      "    \n",
      "    div.text_cell{\n",
      "    width: 120ex;\n",
      "    }\n",
      "    \n",
      "    div.text_cell_render{\n",
      "    font-family: \"Charis SIL\",serif;\n",
      "    line-height: 145%;\n",
      "    width: 125ex;\n",
      "    margin-left:0.1cm;\n",
      "    }\n",
      "\n",
      "    div.text_cell_render h1 {\n",
      "    font-size: 18pt;\n",
      "    }\n",
      "\n",
      "    div.text_cell_render h2 {\n",
      "    font-size: 14pt;\n",
      "    }\n",
      "\n",
      "    .CodeMirror {\n",
      "    font-family: Consolas, monospace;\n",
      "    }\n",
      "\n",
      "</style>\n",
      "\n",
      "\n",
      "<style type=\"text/css\">\n",
      "    table {\n",
      "\toverflow:hidden;\n",
      "    font-family: \"Lucida Sans Unicode\", \"Lucida Grande\", Sans-Serif;\n",
      "\tfont-size: 12px;\n",
      "\tmargin: 45px;\n",
      "\twidth: 480px;\n",
      "\ttext-align: left;\n",
      "\tborder-collapse: collapse;\n",
      "\tborder: 1px solid #d3d3d3;\n",
      "    -moz-border-radius:5px; FF1+;\n",
      "    -webkit-border-radius:5px; Saf3-4;\n",
      "    border-radius:5px;\n",
      "    -moz-box-shadow: 0 0 4px rgba(0, 0, 0, 0.01);    \n",
      "}\n",
      "th\n",
      "{\n",
      "\tpadding: 12px 17px 12px 17px;\n",
      "\tfont-weight: normal;\n",
      "\tfont-size: 14px;\n",
      "\tborder-bottom: 1px dashed #69c;\n",
      "}\n",
      "\n",
      "td\n",
      "{\n",
      "\tpadding: 7px 17px 7px 17px;\n",
      "\n",
      "}\n",
      "\n",
      "tbody tr:hover th\n",
      "{\n",
      "\n",
      "\tbackground:  #E9E9E9;\n",
      "}\n",
      "\n",
      "tbody tr:hover td\n",
      "{\n",
      "\n",
      "\tbackground:  #E9E9E9;\n",
      "}\n",
      "</style>"
     ]
    },
    {
     "cell_type": "code",
     "collapsed": false,
     "input": [],
     "language": "python",
     "metadata": {},
     "outputs": []
    }
   ],
   "metadata": {}
  }
 ]
}
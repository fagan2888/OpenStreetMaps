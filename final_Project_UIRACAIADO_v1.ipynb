{
 "metadata": {
  "name": "",
  "signature": "sha256:c4c7329a3774b488dac95303289f08c8f5d9ef415b0ac66a2b59d9e0a0c8100f"
 },
 "nbformat": 3,
 "nbformat_minor": 0,
 "worksheets": [
  {
   "cells": [
    {
     "cell_type": "markdown",
     "metadata": {},
     "source": [
      "\n",
      "\n",
      "\n",
      "\n",
      "\n",
      "# Data Wrangle OpenStreetMaps Data"
     ]
    },
    {
     "cell_type": "markdown",
     "metadata": {},
     "source": [
      "The first thing that I noticed when I started exploring the data about my city was that there were tons words wrongly accentuated or without special characteres. The grammar of Brazilian Portuguese is tricky, sometimes it is confusing.\n",
      "\n",
      "Bla bla bla2 <a href=\"http://www.quora.com/How-do-you-explain-Machine-Learning-and-Data-Mining-to-non-Computer-Science-people\">some link</a> source of the link.\n",
      "\n",
      "Bla Bla Bla3. \n",
      "\n",
      "###subtitle1 "
     ]
    },
    {
     "cell_type": "markdown",
     "metadata": {},
     "source": [
      "According to the <a href=\"http://www.fflch.usp.br/centrodametropole/en/716\">street dataset</a> documentation from Center for metropolitan Studies of S\u00e3o Paulo, the street names following the structure:\n",
      "       \n",
      "       [STREET TYPE] [NAME TITLE (optional)] [NAME] :\n",
      "       \n",
      "It can be observed in the given examples:\n",
      "\n",
      "    - Avenida Coronel Madeira. Avenida (avenue) is the Street Type; Coronel is the Title (colonel) and Medeira is the name.\n"
     ]
    },
    {
     "cell_type": "code",
     "collapsed": false,
     "input": [
      "filename='c:/Users/Vera/Dropbox/NEUTRINO/ALGO/DATA/sao-paulo_brazil.osm'\n",
      "# filename='/Users/ucaiado/Dropbox/NEUTRINO/ALGO/DATA/sao-paulo_brazil.osm'\n",
      "# filename='/Users/ucaiado/Documents/temp/map.osm-2.xml'\n",
      "# filename='/Users/ucaiado/Downloads/map'"
     ],
     "language": "python",
     "metadata": {},
     "outputs": [],
     "prompt_number": 3
    },
    {
     "cell_type": "markdown",
     "metadata": {},
     "source": [
      "source: http://eli.thegreenplace.net/2012/03/15/processing-xml-in-python-with-elementtree\n",
      "\n",
      "regular - expression: http://en.wikipedia.org/wiki/Regular_expression\n",
      "\n",
      "How many streets there are in Sao Paulo: http://super.abril.com.br/cultura/quantas-ruas-existem-sao-paulo-444417.shtml"
     ]
    },
    {
     "cell_type": "code",
     "collapsed": false,
     "input": [
      "import xml.etree.cElementTree as ET\n",
      "import pprint\n",
      "\n",
      "def count_tags(filename):\n",
      "    # I had some issues with the original code regarding to memory usage\n",
      "    d={}\n",
      "    for event, elem in ET.iterparse(filename):\n",
      "        if event == 'end':\n",
      "            if elem.tag not in d: d[elem.tag]=1\n",
      "            else: d[elem.tag]+=1\n",
      "        elem.clear() # discard the element\n",
      "            \n",
      "    return d"
     ],
     "language": "python",
     "metadata": {},
     "outputs": [],
     "prompt_number": 4
    },
    {
     "cell_type": "code",
     "collapsed": false,
     "input": [
      "d=count_tags(filename)"
     ],
     "language": "python",
     "metadata": {},
     "outputs": [],
     "prompt_number": 5
    },
    {
     "cell_type": "code",
     "collapsed": false,
     "input": [
      "pprint.pprint(d)"
     ],
     "language": "python",
     "metadata": {},
     "outputs": [
      {
       "output_type": "stream",
       "stream": "stdout",
       "text": [
        "{'bounds': 1,\n",
        " 'member': 38702,\n",
        " 'nd': 1826215,\n",
        " 'node': 1475441,\n",
        " 'osm': 1,\n",
        " 'relation': 4516,\n",
        " 'tag': 584178,\n",
        " 'way': 198120}\n"
       ]
      }
     ],
     "prompt_number": 6
    },
    {
     "cell_type": "code",
     "collapsed": false,
     "input": [],
     "language": "python",
     "metadata": {},
     "outputs": []
    },
    {
     "cell_type": "code",
     "collapsed": false,
     "input": [],
     "language": "python",
     "metadata": {},
     "outputs": []
    },
    {
     "cell_type": "code",
     "collapsed": false,
     "input": [
      "import xml.etree.cElementTree as ET\n",
      "import pprint\n",
      "import re\n",
      "\n",
      "lower = re.compile(r'^([a-z]|_)*$')\n",
      "lower_colon = re.compile(r'^([a-z]|_)*:([a-z]|_)*$')\n",
      "problemchars = re.compile(r'[=\\+/&<>;\\'\"\\?%#$@\\,\\. \\t\\r\\n]')\n",
      "problemchars2 = re.compile(r'[=\\+/&<>;\\'\"\\?%#$@\\,\\ \\t\\r\\n]')\n",
      "\n",
      "\n",
      "def key_type(element, keys):\n",
      "    if element.tag == \"tag\":\n",
      "        # YOUR CODE HERE\n",
      "        s=element.attrib['k']\n",
      "        if problemchars.search(s): keys['problemchars']+=1 \n",
      "        elif lower_colon.search(s):keys['lower_colon']+=1\n",
      "        elif lower.search(s):keys['lower']+=1\n",
      "        else: keys['other']+=1\n",
      "\n",
      "        \n",
      "    return keys\n",
      "\n",
      "\n",
      "\n",
      "def process_map(filename):\n",
      "    keys = {\"lower\": 0, \"lower_colon\": 0, \"problemchars\": 0, \"other\": 0}\n",
      "    for _, element in ET.iterparse(filename):\n",
      "        keys = key_type(element, keys)\n",
      "        element.clear() # discard the element\n",
      "\n",
      "    return keys\n",
      "\n",
      "\n",
      "# You can use another testfile 'map.osm' to look at your solution\n",
      "# Note that the assertions will be incorrect then.\n",
      "keys = process_map(filename)"
     ],
     "language": "python",
     "metadata": {},
     "outputs": [],
     "prompt_number": 7
    },
    {
     "cell_type": "code",
     "collapsed": false,
     "input": [
      "pprint.pprint(keys)"
     ],
     "language": "python",
     "metadata": {},
     "outputs": [
      {
       "output_type": "stream",
       "stream": "stdout",
       "text": [
        "{'lower': 554488, 'lower_colon': 28594, 'other': 1091, 'problemchars': 5}\n"
       ]
      }
     ],
     "prompt_number": 8
    },
    {
     "cell_type": "code",
     "collapsed": false,
     "input": [],
     "language": "python",
     "metadata": {},
     "outputs": []
    },
    {
     "cell_type": "code",
     "collapsed": false,
     "input": [],
     "language": "python",
     "metadata": {},
     "outputs": []
    },
    {
     "cell_type": "code",
     "collapsed": false,
     "input": [
      "import pprint\n",
      "import re\n",
      "\n",
      "def get_user(element,users):\n",
      "    if element.tag == \"node\":\n",
      "        # YOUR CODE HERE\n",
      "        users.add(element.attrib['uid'])\n",
      "\n",
      "        \n",
      "    return users\n",
      "\n",
      "\n",
      "def process_map(filename):\n",
      "    users = set()\n",
      "    for _, element in ET.iterparse(filename):\n",
      "        users= get_user(element,users)\n",
      "        element.clear() # discard the element\n",
      "\n",
      "    return users\n",
      "\n",
      "users = process_map(filename)\n",
      "\n"
     ],
     "language": "python",
     "metadata": {},
     "outputs": [],
     "prompt_number": 9
    },
    {
     "cell_type": "code",
     "collapsed": false,
     "input": [
      "print 'Unique Users that contributed to this map: {}'.format(len(users))"
     ],
     "language": "python",
     "metadata": {},
     "outputs": [
      {
       "output_type": "stream",
       "stream": "stdout",
       "text": [
        "Unique Users that contributed to this map: 1189\n"
       ]
      }
     ],
     "prompt_number": 10
    },
    {
     "cell_type": "code",
     "collapsed": false,
     "input": [],
     "language": "python",
     "metadata": {},
     "outputs": []
    },
    {
     "cell_type": "code",
     "collapsed": false,
     "input": [],
     "language": "python",
     "metadata": {},
     "outputs": []
    },
    {
     "cell_type": "code",
     "collapsed": false,
     "input": [
      "import xml.etree.cElementTree as ET\n",
      "from collections import defaultdict\n",
      "import re\n",
      "import pprint\n",
      "\n",
      "OSMFILE = filename\n",
      "street_type_re = re.compile(r'([^\\s]+)', re.IGNORECASE)\n",
      "\n",
      "\n",
      "expected =['avenida',\"alameda\",'largo','travessa',u'pra\\xe7a', 'via','viaduto','viela', 'estrada', 'rodovia', 'rua','passagem']\n",
      "\n",
      "# UPDATE THIS VARIABLE\n",
      "mapping = {  'av': u'avenida',\n",
      "             'al': u\"alameda\",\n",
      "             'lgo': u'largo',\n",
      "             'praca': u'pra\\xe7a',\n",
      "             'r': u'rua',\n",
      "             'rd': u'rodovia'\n",
      "            }\n",
      "\n",
      "mapping_title = {'cel': u'coronel',\n",
      "             'dr': u\"doutor\",\n",
      "             'eng': u'engenheiro',\n",
      "             'pres': u'presidente',\n",
      "             'prof': u'professor',\n",
      "             'sen': u'senador'\n",
      "            }\n",
      "\n",
      "def audit_street_type(street_types, street_name):\n",
      "    m = street_type_re.search(street_name)\n",
      "    if m:\n",
      "        street_type = m.group().lower()\n",
      "        if street_type not in expected:\n",
      "            street_types[street_type].add(street_name)\n",
      "            \n",
      "def audit_street_type_new(street_types, street_name):\n",
      "    m = street_type_re.search(street_name)\n",
      "    if m:\n",
      "        street_type = m.group().lower()\n",
      "        if street_type not in expected:\n",
      "            street_types[street_type].add(street_name)\n",
      "        #check the second word, when it exists\n",
      "        l_names=street_name.split()\n",
      "        if len(l_names)>1:\n",
      "            s=l_names[1].lower()\n",
      "            if '.' == s[-1]: s = s[:-1]\n",
      "            if s in mapping_title:\n",
      "                 street_types[street_type].add(street_name)\n",
      "            \n",
      "\n",
      "def is_street_name(elem):\n",
      "    return (((elem.attrib['k']).lower() == \"addr:street\") )\n",
      "\n",
      "\n",
      "def audit(osmfile):\n",
      "    osm_file = open(osmfile, \"r\")\n",
      "    street_types = defaultdict(set)\n",
      "    for event, elem in ET.iterparse(osm_file, events=(\"start\",)):\n",
      "\n",
      "        if elem.tag == \"node\" or elem.tag == \"way\":\n",
      "            for tag in elem.iter(\"tag\"):\n",
      "                if is_street_name(tag):\n",
      "                    audit_street_type_new(street_types, tag.attrib['v'])\n",
      "            elem.clear() # discard the element\n",
      "\n",
      "    return street_types\n",
      "\n",
      "\n",
      "\n",
      "\n",
      "def update_name(name, mapping):\n",
      "    s=name.split()[0].lower()\n",
      "    name=name[len(s):len(name)].lower().strip()\n",
      "    if '.' in s[-1]: s = s[:-1]\n",
      "    if s not in mapping: return None\n",
      "    name=(u\"{} {}\".format(mapping[s],name)).title() \n",
      "    return name\n",
      "\n",
      "def update_name_new(name, mapping):\n",
      "    s=name.split()[0].lower()\n",
      "    name=name[len(s):len(name)].lower().strip()\n",
      "    if '.' in s[-1]: s = s[:-1]\n",
      "    if s not in mapping: return None\n",
      "    if problemchars2.search(name):\n",
      "        l=[x for x in problemchars2.findall(name) if x !=' ']\n",
      "        if l: name=name.split(l[0])[0]\n",
      "    try:\n",
      "        name=(u\"{} {}\".format(mapping[s],unicode(name.strip(), 'utf8'))).title() \n",
      "    except UnicodeDecodeError :\n",
      "        name=(u\"{} {}\".format(mapping[s],unicode(name.strip(), 'latin1'))).title()\n",
      "    except TypeError:\n",
      "        name=(u\"{} {}\".format(mapping[s],name.strip())).title()         \n",
      "    return name\n",
      "\n",
      "\n",
      "def update_name_and_titles(name, mapping, mapping_title):\n",
      "    #take the first and second word from the string passed\n",
      "    l_names=name.split()\n",
      "    s_1=l_names[0].lower()\n",
      "    if len(l_names)>1:s_2=name.split()[1].lower()\n",
      "    else:s_2=' '\n",
      "\n",
      "\n",
      "    #take off the dot from the strings, if it is presentes\n",
      "    if '.' in s_2[-1]: s_b = s_2[:-1]\n",
      "    else:s_b = s_2\n",
      "    if '.' in s_1[-1]: s_a = s_1[:-1]  \n",
      "    else:s_a = s_1\n",
      "\n",
      "\n",
      "\n",
      "    #check if the first word is a street type valid\n",
      "    if s_a not in mapping: return None\n",
      "    else: s_a=mapping[s_a]\n",
      "\n",
      "    #check if the second string should be used\n",
      "    if s_b in mapping_title: \n",
      "        s_c=\"{} {}\".format(s_a, mapping_title[s_b])\n",
      "    else: \n",
      "        s_c=s_a\n",
      "        s_2=''\n",
      "\n",
      "    #extract the street name from the string passed\n",
      "    name=name[(len(s_1)+len(s_2)+1):len(name)].lower().strip()\n",
      "\n",
      "    #look for errors in the string\n",
      "    if problemchars2.search(name):\n",
      "        l=[x for x in problemchars2.findall(name) if x !=' ']\n",
      "        if l: name=name.split(l[0])[0]\n",
      "\n",
      "    #encode correctly the name\n",
      "    try:\n",
      "        name=(u\"{} {}\".format(s_c,unicode(name.strip(), 'utf8'))).title() \n",
      "    except UnicodeDecodeError :\n",
      "        name=(u\"{} {}\".format(s_c,unicode(name.strip(), 'latin1'))).title()\n",
      "    except TypeError:\n",
      "        name=(u\"{} {}\".format(s_c,name.strip())).title()         \n",
      "\n",
      "    return name     \n",
      "\n",
      "def test():\n",
      "    st_types = audit(OSMFILE)\n",
      "    assert len(st_types) == 3\n",
      "    pprint.pprint(dict(st_types))\n",
      "\n",
      "    for st_type, ways in st_types.iteritems():\n",
      "        for name in ways:\n",
      "            better_name = update_name(name, mapping)\n",
      "            print name, \"=>\", better_name\n",
      "            if name == \"West Lexington St.\":\n",
      "                assert better_name == \"West Lexington Street\"\n",
      "            if name == \"Baldwin Rd.\":\n",
      "                assert better_name == \"Baldwin Road\""
     ],
     "language": "python",
     "metadata": {},
     "outputs": [],
     "prompt_number": 104
    },
    {
     "cell_type": "code",
     "collapsed": false,
     "input": [
      "st_types = audit(filename)"
     ],
     "language": "python",
     "metadata": {},
     "outputs": [],
     "prompt_number": 105
    },
    {
     "cell_type": "code",
     "collapsed": false,
     "input": [
      "pprint.pprint(dict(st_types))"
     ],
     "language": "python",
     "metadata": {},
     "outputs": [
      {
       "output_type": "stream",
       "stream": "stdout",
       "text": [
        "{'3': set(['3']),\n",
        " 'a': set(['A']),\n",
        " 'ac': set(['AC SAO BERNARDO DO CAMPO']),\n",
        " 'aguia': set(['Aguia de Haia']),\n",
        " u'al.': set(['Al. Barros',\n",
        "              'Al. Jauaperi',\n",
        "              u'Al. Joaquim Eug\\xeanio de Lima',\n",
        "              u'Al. Jos\\xe9 Maria Lisboa',\n",
        "              'Al. Lorena',\n",
        "              'Al. Pamplona',\n",
        "              'Al. Santos',\n",
        "              u'Al. Sarutai\\xe1']),\n",
        " 'antonio': set(['Antonio Caputo',\n",
        "                 'antonio dos santos santinho',\n",
        "                 'antonio dos santos santinho, esplanada mendes, sao roque, sao paulo, brasil']),\n",
        " u'av': set(['AV PEDROSO DE MORAIS',\n",
        "             u'Av Guap\\xe9',\n",
        "             u'Av Jac\\xfa Pessego / Nova Trabalhadores']),\n",
        " u'av.': set([u'Av. Ant\\xf4nio Joaquim de Moura Andrade',\n",
        "              'Av. Francisco Matarazzo',\n",
        "              u'Av. Francisco N\\xf3brega Barbosa',\n",
        "              u'Av. Prof. L\\xfacio Martins Rodrigues, travessas 4 e 5',\n",
        "              'Av. Santo Amaro']),\n",
        " 'avenida': set(['Avenida Dr. Assis Ribeiro',\n",
        "                 'Avenida Dr. Carlos de Campos',\n",
        "                 u'Avenida Dr. Jos\\xe9 Fomari',\n",
        "                 'Avenida Dr. Thomaz Rodrigues da Cruz',\n",
        "                 'Avenida Eng Luis Carlos Berrini',\n",
        "                 'Avenida Eng. George Corbisier',\n",
        "                 u'Avenida Eng. Lu\\xeds Carlos Berrini',\n",
        "                 'Avenida Pres. Arthur Bernardes',\n",
        "                 'Avenida Prof. Luiz Ignacio Anhaia Mello',\n",
        "                 u'Avenida Prof. Vicente R\\xe1o',\n",
        "                 'Avenida Sen. Vergueiro']),\n",
        " 'azevedo': set(['Azevedo Junior']),\n",
        " u'caja\\xedba': set([u'Caja\\xedba']),\n",
        " 'campo': set(['Campo Limpo Paulista']),\n",
        " u'cant\\xeddio': set([u'Cant\\xeddio Miragaia']),\n",
        " 'coronel': set(['Coronel Manuel Machado']),\n",
        " 'franklin': set(['Franklin do Amaral']),\n",
        " 'garcia': set(['Garcia Lorca']),\n",
        " 'guarara': set(['Guarara']),\n",
        " 'hum': set(['Hum']),\n",
        " 'manoel': set(['Manoel Ramos Paiva']),\n",
        " 'marina': set(['Marina', 'Marina Giacomini, 57']),\n",
        " u'oscar': set([u'Oscar Foga\\xe7a']),\n",
        " u'padre': set([u'Padre \\xc1lvaro Quinones Zuniga']),\n",
        " u'parque': set([u'Parque da Independ\\xeancia']),\n",
        " 'pires': set(['Pires']),\n",
        " 'praca': set(['Praca Professor Reinaldo Porchat de Assis']),\n",
        " 'r': set(['R COJUBA', 'R RESTINGA']),\n",
        " u'r.': set([u'R. Ant\\xf4nio Barroso Barreto']),\n",
        " 'rua': set(['Rua Cel. Diogo',\n",
        "             'Rua Dr Jose Gravonski',\n",
        "             'Rua Dr. Almeida Lima',\n",
        "             'Rua Dr. Barros Cruz',\n",
        "             u'Rua Dr. Ildefonso Sim\\xf5es Lopes',\n",
        "             'Rua Dr. Jorge de Oliveira Coutinho',\n",
        "             u'Rua Dr. Jos\\xe9 Vicente',\n",
        "             'Rua Dr. Oscar Fernandes Martins',\n",
        "             'Rua Dr. Penaforte mendes',\n",
        "             u'Rua Eng. Lu\\xeds Ant\\xf4nio Rantin Moutinho',\n",
        "             u'Rua Prof. Sebasti\\xe3o Farias de Queiroz']),\n",
        " 'sao': set(['sao sebastiao']),\n",
        " 'secondary': set(['secondary']),\n",
        " 'vila': set(['Vila Carmosina'])}\n"
       ]
      }
     ],
     "prompt_number": 106
    },
    {
     "cell_type": "code",
     "collapsed": false,
     "input": [],
     "language": "python",
     "metadata": {},
     "outputs": []
    },
    {
     "cell_type": "code",
     "collapsed": false,
     "input": [],
     "language": "python",
     "metadata": {},
     "outputs": []
    },
    {
     "cell_type": "code",
     "collapsed": false,
     "input": [
      "for st_type, ways in st_types.iteritems():\n",
      "    for name in ways:\n",
      "        better_name = update_name_and_titles(name, mapping, mapping_title)\n",
      "        if better_name:print name, \"=>\", better_name"
     ],
     "language": "python",
     "metadata": {},
     "outputs": [
      {
       "output_type": "stream",
       "stream": "stdout",
       "text": [
        "Av Guap\u00e9 => Avenida Guap\u00e9\n",
        "Av Jac\u00fa Pessego / Nova Trabalhadores => Avenida Jac\u00fa Pessego\n",
        "AV PEDROSO DE MORAIS => Avenida Pedroso De Morais\n",
        "Al. Santos => Alameda Santos\n",
        "Al. Jauaperi => Alameda Jauaperi\n",
        "Al. Lorena => Alameda Lorena\n",
        "Al. Jos\u00e9 Maria Lisboa => Alameda Jos\u00e9 Maria Lisboa\n",
        "Al. Sarutai\u00e1 => Alameda Sarutai\u00e1\n",
        "Al. Joaquim Eug\u00eanio de Lima => Alameda Joaquim Eug\u00eanio De Lima\n",
        "Al. Pamplona => Alameda Pamplona\n",
        "Al. Barros => Alameda Barros\n",
        "Praca Professor Reinaldo Porchat de Assis => Pra\u00e7a Professor Reinaldo Porchat De Assis\n",
        "Av. Ant\u00f4nio Joaquim de Moura Andrade => Avenida Ant\u00f4nio Joaquim De Moura Andrade\n",
        "Av. Santo Amaro => Avenida Santo Amaro\n",
        "Av. Prof. L\u00facio Martins Rodrigues, travessas 4 e 5 => Avenida Professor L\u00facio Martins Rodrigues\n",
        "Av. Francisco N\u00f3brega Barbosa => Avenida Francisco N\u00f3brega Barbosa\n",
        "Av. Francisco Matarazzo => Avenida Francisco Matarazzo\n",
        "R RESTINGA => Rua Restinga\n",
        "R COJUBA => Rua Cojuba\n",
        "R. Ant\u00f4nio Barroso Barreto => Rua Ant\u00f4nio Barroso Barreto\n"
       ]
      }
     ],
     "prompt_number": 107
    },
    {
     "cell_type": "code",
     "collapsed": false,
     "input": [
      "osm_file = open(filename, \"r\")\n",
      "street_types = defaultdict(set)\n",
      "k_types= set()\n",
      "city_names=defaultdict(int)\n",
      "title_names=defaultdict(int)\n",
      "\n",
      "for event, elem in ET.iterparse(osm_file, events=(\"start\",)):\n",
      "\n",
      "    \n",
      "    \n",
      "    if elem.tag == \"node\" or elem.tag == \"way\":\n",
      "        for tag in elem.iter(\"tag\"):\n",
      "            k_types.add(tag.attrib['k'].lower())\n",
      "            if (tag.attrib['k'].lower() == \"addr:city\") | ((tag.attrib['k'].lower() == \"add:city\") ):\n",
      "                city_names[tag.attrib['v'].lower()]+=1\n",
      "            if is_street_name(tag):\n",
      "                l_names=tag.attrib['v'].split()\n",
      "                if len(l_names)>1:\n",
      "                    title_names[l_names[1]]+=1\n",
      "                \n",
      "        elem.clear() # discard the element"
     ],
     "language": "python",
     "metadata": {},
     "outputs": [],
     "prompt_number": 15
    },
    {
     "cell_type": "code",
     "collapsed": false,
     "input": [
      "import pandas as pd"
     ],
     "language": "python",
     "metadata": {},
     "outputs": [],
     "prompt_number": 16
    },
    {
     "cell_type": "code",
     "collapsed": false,
     "input": [
      "pd.Series(list(k_types))"
     ],
     "language": "python",
     "metadata": {},
     "outputs": [
      {
       "metadata": {},
       "output_type": "pyout",
       "prompt_number": 28,
       "text": [
        "0                      maxspeed\n",
        "1                    cd_geocodd\n",
        "2                    snowmobile\n",
        "3         seamark:light:2:group\n",
        "4                        name_2\n",
        "5                         is_in\n",
        "6               building:height\n",
        "7     seamark:light:2:character\n",
        "8                  seamark:type\n",
        "9               source:operator\n",
        "10                 2014worldcup\n",
        "11                       fenced\n",
        "12                    funai:adr\n",
        "13                   addr:state\n",
        "14                   funai:cdoc\n",
        "...\n",
        "643                   min_height\n",
        "644                   visibility\n",
        "645                      maxstay\n",
        "646          dwc:associatedmedia\n",
        "647               building:shape\n",
        "648                     building\n",
        "649    traffic_signals:direction\n",
        "650                         yelp\n",
        "651              rednap:longitud\n",
        "652                         wifi\n",
        "653     restriction_no_left_turn\n",
        "654                      name:gl\n",
        "655               fuel:octane_87\n",
        "656                        depth\n",
        "657               fuel:octane_80\n",
        "Length: 658, dtype: object"
       ]
      }
     ],
     "prompt_number": 28
    },
    {
     "cell_type": "code",
     "collapsed": false,
     "input": [],
     "language": "python",
     "metadata": {},
     "outputs": []
    },
    {
     "cell_type": "code",
     "collapsed": false,
     "input": [],
     "language": "python",
     "metadata": {},
     "outputs": []
    },
    {
     "cell_type": "code",
     "collapsed": false,
     "input": [
      "pprint.pprint(dict(city_names))"
     ],
     "language": "python",
     "metadata": {},
     "outputs": [
      {
       "output_type": "stream",
       "stream": "stdout",
       "text": [
        "{u'aldeia de carapicu\\xedba': 1,\n",
        " u'alum\\xednio': 1,\n",
        " 'aruja': 1,\n",
        " u'aruj\\xe1': 8,\n",
        " 'atibaia': 3,\n",
        " 'barueri': 12,\n",
        " 'bertioga': 3,\n",
        " 'cajamar': 2,\n",
        " 'campo limpo paulista': 3,\n",
        " u'carapicu\\xedba': 5,\n",
        " 'cotia': 11,\n",
        " u'cubat\\xe3o': 1,\n",
        " 'diadema': 175,\n",
        " 'embu das artes': 11,\n",
        " 'ferraz de vasconcelos': 14,\n",
        " 'francisco morato': 2,\n",
        " 'guaruja': 1,\n",
        " u'guaruj\\xe1': 1,\n",
        " 'guarulhos': 109,\n",
        " u'ibi\\xfana-sp': 1,\n",
        " u'igarat\\xe1': 1,\n",
        " u'itanha\\xe9m': 2,\n",
        " 'itaquaquecetuba': 2,\n",
        " 'itu': 1,\n",
        " u'jacare\\xed': 1,\n",
        " u'jundia\\xed': 14,\n",
        " u'mairipor\\xe3': 361,\n",
        " 'maua': 3,\n",
        " u'mau\\xe1': 51,\n",
        " 'mogi das cruzes': 3,\n",
        " 'mooca': 1,\n",
        " 'osasco': 7,\n",
        " u'ribeir\\xe3o pires': 1,\n",
        " u'santana de parna\\xedba': 2,\n",
        " u'santo andr\\xe9': 112,\n",
        " 'santos': 36,\n",
        " 'sao bernardo do campo': 1,\n",
        " 'sao jose dos campos': 1,\n",
        " 'sao paolo': 1,\n",
        " 'sao paulo': 22,\n",
        " 'sao vicente': 1,\n",
        " 'service': 2,\n",
        " 'suzano': 4,\n",
        " u's\\xe3o bernardo do campo': 1387,\n",
        " u's\\xe3o caetano do sul': 10,\n",
        " u's\\xe3o jos\\xe9 dos campos': 44,\n",
        " u's\\xe3o paulo': 2596,\n",
        " u's\\xe3o paulo - sp': 6,\n",
        " u's\\xe3o paulo/sp': 1,\n",
        " u's\\xe3o roque': 1,\n",
        " u's\\xe3o vicente': 2,\n",
        " u'tabo\\xe3o da serra': 11,\n",
        " 'varzea paulista': 5}\n"
       ]
      }
     ],
     "prompt_number": 27
    },
    {
     "cell_type": "code",
     "collapsed": false,
     "input": [
      "l_second=['cel','dr','eng','pres.','prof','Sen']"
     ],
     "language": "python",
     "metadata": {},
     "outputs": [],
     "prompt_number": 24
    },
    {
     "cell_type": "code",
     "collapsed": false,
     "input": [],
     "language": "python",
     "metadata": {},
     "outputs": [],
     "prompt_number": 40
    },
    {
     "cell_type": "code",
     "collapsed": false,
     "input": [],
     "language": "python",
     "metadata": {},
     "outputs": [],
     "prompt_number": 32
    },
    {
     "cell_type": "code",
     "collapsed": false,
     "input": [],
     "language": "python",
     "metadata": {},
     "outputs": [],
     "prompt_number": 32
    },
    {
     "cell_type": "code",
     "collapsed": false,
     "input": [],
     "language": "python",
     "metadata": {},
     "outputs": [],
     "prompt_number": 35
    },
    {
     "cell_type": "code",
     "collapsed": false,
     "input": [],
     "language": "python",
     "metadata": {},
     "outputs": [],
     "prompt_number": 32
    },
    {
     "cell_type": "code",
     "collapsed": false,
     "input": [
      "name=\"Av. Prof. L\u00facio Martins Rodrigues, travessas 4 e 5\"\n",
      "\n",
      "#take the first and second word from the string passed\n",
      "s_1=name.split()[0].lower()\n",
      "s_2=name.split()[1].lower()\n",
      "\n",
      "\n",
      "#take off the dot from the strings, if it is presentes\n",
      "if '.' in s_2[-1]: s_b = s_2[:-1]\n",
      "if '.' in s_1[-1]: s_a = s_1[:-1]    \n",
      "\n",
      "#check if the first word is a street type valid\n",
      "if s_a not in mapping: print None\n",
      "else: s_a=mapping[s_a]\n",
      "\n",
      "#check if the second string should be used\n",
      "if s_b in mapping_title: s_c=\"{} {}\".format(s_a, mapping_title[s_b])\n",
      "#extract the street name from the string passed\n",
      "name=name[(len(s_1)+len(s_2)+1):len(name)].lower().strip()\n",
      "\n",
      "#look for errors in the string\n",
      "if problemchars2.search(name):\n",
      "    l=[x for x in problemchars2.findall(name) if x !=' ']\n",
      "    if l: name=name.split(l[0])[0]\n",
      "      \n",
      "#encode correctly the name\n",
      "try:\n",
      "    name=(u\"{} {}\".format(s,unicode(name.strip(), 'utf8'))).title() \n",
      "except UnicodeDecodeError :\n",
      "    name=(u\"{} {}\".format(s,unicode(name.strip(), 'latin1'))).title()\n",
      "except TypeError:\n",
      "    name=(u\"{} {}\".format(s,name.strip())).title()         \n",
      "\n",
      "print name"
     ],
     "language": "python",
     "metadata": {},
     "outputs": [
      {
       "output_type": "stream",
       "stream": "stdout",
       "text": [
        "Avenida Professor L\u00facio Martins Rodrigues\n"
       ]
      }
     ],
     "prompt_number": 66
    },
    {
     "cell_type": "code",
     "collapsed": false,
     "input": [
      "name"
     ],
     "language": "python",
     "metadata": {},
     "outputs": [
      {
       "metadata": {},
       "output_type": "pyout",
       "prompt_number": 65,
       "text": [
        "'l\\xc3\\xbacio martins rodrigues'"
       ]
      }
     ],
     "prompt_number": 65
    },
    {
     "cell_type": "code",
     "collapsed": false,
     "input": [
      "s2"
     ],
     "language": "python",
     "metadata": {},
     "outputs": [
      {
       "metadata": {},
       "output_type": "pyout",
       "prompt_number": 45,
       "text": [
        "'prof'"
       ]
      }
     ],
     "prompt_number": 45
    },
    {
     "cell_type": "markdown",
     "metadata": {},
     "source": [
      "\"Av. Prof. L\u00facio Martins Rodrigues, travessas 4 e 5\" shows that I need go further to correct the names in the file. First, 'Prof.' is a shortname for 'professor'. There are a planty of this kind of shortened names in Brazil when we write street names. Second, I verified some streets that there is information beyond the required, as the \"..., travessas 4 e 5\" in this example. \n",
      "\n",
      "Another problem is accentueted words. 'Rua Cojuba' should be  'Rua Cojub\u00e1'. \n",
      "\n",
      "I will address the most of those issues crossing the names with an official database provided by Sao Paulo University."
     ]
    },
    {
     "cell_type": "markdown",
     "metadata": {},
     "source": [
      "Another problemns I noticed in the data was the misspelled names for cities  and the lack of the naighborhood's for some documents."
     ]
    },
    {
     "cell_type": "code",
     "collapsed": false,
     "input": [],
     "language": "python",
     "metadata": {},
     "outputs": []
    },
    {
     "cell_type": "code",
     "collapsed": false,
     "input": [],
     "language": "python",
     "metadata": {},
     "outputs": []
    },
    {
     "cell_type": "code",
     "collapsed": false,
     "input": [],
     "language": "python",
     "metadata": {},
     "outputs": []
    },
    {
     "cell_type": "code",
     "collapsed": false,
     "input": [],
     "language": "python",
     "metadata": {},
     "outputs": []
    },
    {
     "cell_type": "code",
     "collapsed": false,
     "input": [],
     "language": "python",
     "metadata": {},
     "outputs": []
    },
    {
     "cell_type": "code",
     "collapsed": false,
     "input": [],
     "language": "python",
     "metadata": {},
     "outputs": []
    },
    {
     "cell_type": "code",
     "collapsed": false,
     "input": [],
     "language": "python",
     "metadata": {},
     "outputs": []
    },
    {
     "cell_type": "code",
     "collapsed": false,
     "input": [],
     "language": "python",
     "metadata": {},
     "outputs": []
    },
    {
     "cell_type": "code",
     "collapsed": false,
     "input": [],
     "language": "python",
     "metadata": {},
     "outputs": []
    },
    {
     "cell_type": "code",
     "collapsed": false,
     "input": [],
     "language": "python",
     "metadata": {},
     "outputs": []
    },
    {
     "cell_type": "code",
     "collapsed": false,
     "input": [],
     "language": "python",
     "metadata": {},
     "outputs": []
    },
    {
     "cell_type": "code",
     "collapsed": false,
     "input": [],
     "language": "python",
     "metadata": {},
     "outputs": []
    },
    {
     "cell_type": "markdown",
     "metadata": {},
     "source": [
      "###Number of cities"
     ]
    },
    {
     "cell_type": "code",
     "collapsed": false,
     "input": [],
     "language": "python",
     "metadata": {},
     "outputs": []
    },
    {
     "cell_type": "code",
     "collapsed": false,
     "input": [],
     "language": "python",
     "metadata": {},
     "outputs": []
    },
    {
     "cell_type": "code",
     "collapsed": false,
     "input": [],
     "language": "python",
     "metadata": {},
     "outputs": []
    },
    {
     "cell_type": "markdown",
     "metadata": {},
     "source": [
      "#####Character encoding hell"
     ]
    },
    {
     "cell_type": "code",
     "collapsed": false,
     "input": [],
     "language": "python",
     "metadata": {},
     "outputs": []
    },
    {
     "cell_type": "code",
     "collapsed": false,
     "input": [],
     "language": "python",
     "metadata": {},
     "outputs": []
    },
    {
     "cell_type": "code",
     "collapsed": false,
     "input": [],
     "language": "python",
     "metadata": {},
     "outputs": []
    },
    {
     "cell_type": "code",
     "collapsed": false,
     "input": [],
     "language": "python",
     "metadata": {},
     "outputs": []
    },
    {
     "cell_type": "code",
     "collapsed": false,
     "input": [],
     "language": "python",
     "metadata": {},
     "outputs": []
    },
    {
     "cell_type": "code",
     "collapsed": false,
     "input": [],
     "language": "python",
     "metadata": {},
     "outputs": []
    },
    {
     "cell_type": "code",
     "collapsed": false,
     "input": [
      "import datetime\n",
      "from dbfpy import dbf"
     ],
     "language": "python",
     "metadata": {},
     "outputs": [],
     "prompt_number": 14
    },
    {
     "cell_type": "code",
     "collapsed": false,
     "input": [
      "#db = dbf.Dbf(\"/Users/ucaiado/Documents/temp/LOG2014_CEM_RMSP.DBF\")\n",
      "db = dbf.Dbf(\"C:/temp/Log2014_CEM_RMSP/LOG2014_CEM_RMSP.DBF\")"
     ],
     "language": "python",
     "metadata": {},
     "outputs": [],
     "prompt_number": 15
    },
    {
     "cell_type": "code",
     "collapsed": false,
     "input": [
      "i=0\n",
      "mySet=set()\n",
      "for rec in db:\n",
      "    #print rec\n",
      "    #if rec['NOME_TIT']:\n",
      "    #print unicode(rec['NOME_TIT'], 'latin1')\n",
      "    #print unicode(rec['NOME_ACEN'], 'latin1')\n",
      "    mySet.add(unicode(rec['NOME_ACEN'], 'latin1'))\n",
      "    #print \"\"\n",
      "    i+=1\n",
      "    \n",
      "    #if i==10: break"
     ],
     "language": "python",
     "metadata": {},
     "outputs": [],
     "prompt_number": 16
    },
    {
     "cell_type": "code",
     "collapsed": false,
     "input": [
      "len(mySet)\n"
     ],
     "language": "python",
     "metadata": {},
     "outputs": [
      {
       "metadata": {},
       "output_type": "pyout",
       "prompt_number": 17,
       "text": [
        "67230"
       ]
      }
     ],
     "prompt_number": 17
    },
    {
     "cell_type": "code",
     "collapsed": false,
     "input": [
      "i"
     ],
     "language": "python",
     "metadata": {},
     "outputs": [
      {
       "metadata": {},
       "output_type": "pyout",
       "prompt_number": 6,
       "text": [
        "326826"
       ]
      }
     ],
     "prompt_number": 6
    },
    {
     "cell_type": "code",
     "collapsed": false,
     "input": [],
     "language": "python",
     "metadata": {},
     "outputs": []
    },
    {
     "cell_type": "code",
     "collapsed": false,
     "input": [],
     "language": "python",
     "metadata": {},
     "outputs": []
    },
    {
     "cell_type": "code",
     "collapsed": false,
     "input": [],
     "language": "python",
     "metadata": {},
     "outputs": []
    },
    {
     "cell_type": "code",
     "collapsed": false,
     "input": [],
     "language": "python",
     "metadata": {},
     "outputs": [],
     "prompt_number": 12
    },
    {
     "cell_type": "markdown",
     "metadata": {},
     "source": [
      "###correcting accents"
     ]
    },
    {
     "cell_type": "code",
     "collapsed": false,
     "input": [],
     "language": "python",
     "metadata": {},
     "outputs": []
    },
    {
     "cell_type": "code",
     "collapsed": false,
     "input": [],
     "language": "python",
     "metadata": {},
     "outputs": []
    },
    {
     "cell_type": "code",
     "collapsed": false,
     "input": [],
     "language": "python",
     "metadata": {},
     "outputs": []
    },
    {
     "cell_type": "code",
     "collapsed": false,
     "input": [],
     "language": "python",
     "metadata": {},
     "outputs": []
    },
    {
     "cell_type": "code",
     "collapsed": false,
     "input": [],
     "language": "python",
     "metadata": {},
     "outputs": []
    },
    {
     "cell_type": "code",
     "collapsed": false,
     "input": [],
     "language": "python",
     "metadata": {},
     "outputs": []
    },
    {
     "cell_type": "code",
     "collapsed": false,
     "input": [
      "['avenida',\"alameda\",'largo','travessa','pra\\xe7a', 'via','viaduto','viela', 'estrada', 'rodovia', 'rua']"
     ],
     "language": "python",
     "metadata": {},
     "outputs": [
      {
       "metadata": {},
       "output_type": "pyout",
       "prompt_number": 51,
       "text": [
        "False"
       ]
      }
     ],
     "prompt_number": 51
    },
    {
     "cell_type": "code",
     "collapsed": false,
     "input": [
      "{'av': u'Avenida',\n",
      " 'al': u\"Alameda\",\n",
      " 'lgo': u'Largo',\n",
      " 'praca': u'Pra\\xe7a',\n",
      " 'r': u'Rua',\n",
      " 'rd': u'Rodovia'\n",
      " }"
     ],
     "language": "python",
     "metadata": {},
     "outputs": [],
     "prompt_number": 46
    },
    {
     "cell_type": "code",
     "collapsed": false,
     "input": [
      "u'P\u00e7'"
     ],
     "language": "python",
     "metadata": {},
     "outputs": [
      {
       "metadata": {},
       "output_type": "pyout",
       "prompt_number": 52,
       "text": [
        "u'P\\xe7'"
       ]
      }
     ],
     "prompt_number": 52
    },
    {
     "cell_type": "code",
     "collapsed": false,
     "input": [],
     "language": "python",
     "metadata": {},
     "outputs": []
    },
    {
     "cell_type": "code",
     "collapsed": false,
     "input": [
      "print u'Cant\\xeddio'\n"
     ],
     "language": "python",
     "metadata": {},
     "outputs": [
      {
       "output_type": "stream",
       "stream": "stdout",
       "text": [
        "Cant\u00eddio\n"
       ]
      }
     ],
     "prompt_number": 45
    },
    {
     "cell_type": "markdown",
     "metadata": {},
     "source": [
      "<em>CSS Style</em>\n",
      "\n",
      "\n",
      "<style type=\"text/css\">\n",
      "    \n",
      "    .rendered_html ol {list-style:decimal; margin: 1em 2em;}\n",
      "    \n",
      "    div.input{\n",
      "    width: 120ex;\n",
      "    }\n",
      "    \n",
      "    div.text_cell{\n",
      "    width: 120ex;\n",
      "    }\n",
      "    \n",
      "    div.text_cell_render{\n",
      "    font-family: \"Charis SIL\",serif;\n",
      "    line-height: 145%;\n",
      "    width: 125ex;\n",
      "    margin-left:2.1cm;\n",
      "    }\n",
      "\n",
      "    div.text_cell_render h1 {\n",
      "    font-size: 18pt;\n",
      "    }\n",
      "\n",
      "    div.text_cell_render h2 {\n",
      "    font-size: 14pt;\n",
      "    }\n",
      "\n",
      "    .CodeMirror {\n",
      "    font-family: Consolas, monospace;\n",
      "    }\n",
      "\n",
      "</style>\n",
      "\n",
      "\n",
      "<style type=\"text/css\">\n",
      "    table {\n",
      "\toverflow:hidden;\n",
      "    font-family: \"Lucida Sans Unicode\", \"Lucida Grande\", Sans-Serif;\n",
      "\tfont-size: 12px;\n",
      "\tmargin: 45px;\n",
      "\twidth: 480px;\n",
      "\ttext-align: left;\n",
      "\tborder-collapse: collapse;\n",
      "\tborder: 1px solid #d3d3d3;\n",
      "    -moz-border-radius:5px; FF1+;\n",
      "    -webkit-border-radius:5px; Saf3-4;\n",
      "    border-radius:5px;\n",
      "    -moz-box-shadow: 0 0 4px rgba(0, 0, 0, 0.01);    \n",
      "}\n",
      "th\n",
      "{\n",
      "\tpadding: 12px 17px 12px 17px;\n",
      "\tfont-weight: normal;\n",
      "\tfont-size: 14px;\n",
      "\tborder-bottom: 1px dashed #69c;\n",
      "}\n",
      "\n",
      "td\n",
      "{\n",
      "\tpadding: 7px 17px 7px 17px;\n",
      "\n",
      "}\n",
      "\n",
      "tbody tr:hover th\n",
      "{\n",
      "\n",
      "\tbackground:  #E9E9E9;\n",
      "}\n",
      "\n",
      "tbody tr:hover td\n",
      "{\n",
      "\n",
      "\tbackground:  #E9E9E9;\n",
      "}\n",
      "</style>"
     ]
    }
   ],
   "metadata": {}
  }
 ]
}
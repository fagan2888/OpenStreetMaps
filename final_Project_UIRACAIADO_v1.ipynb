{
 "metadata": {
  "name": "",
  "signature": "sha256:4d95a32aebcf260a4112821bd3f3e71a1767d56641b56a9d32b866c02af64416"
 },
 "nbformat": 3,
 "nbformat_minor": 0,
 "worksheets": [
  {
   "cells": [
    {
     "cell_type": "markdown",
     "metadata": {},
     "source": [
      "\n",
      "\n",
      "\n",
      "\n",
      "\n",
      "# Data Wrangle OpenStreetMaps Data"
     ]
    },
    {
     "cell_type": "markdown",
     "metadata": {},
     "source": [
      "Blla bla bla1. \n",
      "\n",
      "Bla bla bla2 <a href=\"http://www.quora.com/How-do-you-explain-Machine-Learning-and-Data-Mining-to-non-Computer-Science-people\">some link</a> source of the link.\n",
      "\n",
      "Bla Bla Bla3. \n",
      "\n",
      "###subtitle1\n",
      "\n",
      "Bla Bla Bla1a. "
     ]
    },
    {
     "cell_type": "code",
     "collapsed": false,
     "input": [
      "import xml.etree.ElementTree as ET\n",
      "import pprint\n",
      "\n",
      "def count_tags(filename):\n",
      "    # YOUR CODE HERE\n",
      "    tree = ET.parse(filename)\n",
      "    root = tree.getroot()\n",
      "    d={}\n",
      "    for child in root:\n",
      "        if child.tag not in d: d[child.tag]=1\n",
      "        else: d[child.tag]+=1\n",
      "\n",
      "    return d"
     ],
     "language": "python",
     "metadata": {},
     "outputs": [],
     "prompt_number": 1
    },
    {
     "cell_type": "code",
     "collapsed": false,
     "input": [
      "import bz2"
     ],
     "language": "python",
     "metadata": {},
     "outputs": [],
     "prompt_number": 3
    },
    {
     "cell_type": "code",
     "collapsed": false,
     "input": [],
     "language": "python",
     "metadata": {},
     "outputs": [],
     "prompt_number": 4
    },
    {
     "cell_type": "code",
     "collapsed": false,
     "input": [
      "mybz2=bz2.BZ2File()"
     ],
     "language": "python",
     "metadata": {},
     "outputs": [],
     "prompt_number": 6
    },
    {
     "cell_type": "code",
     "collapsed": false,
     "input": [
      "mybz2.close()"
     ],
     "language": "python",
     "metadata": {},
     "outputs": [],
     "prompt_number": 11
    },
    {
     "cell_type": "code",
     "collapsed": false,
     "input": [
      "import bz2\n",
      "\n",
      "input_file = bz2.BZ2File('data/sao-paulo_brazil.osm.bz2', 'rb')\n",
      "try:\n",
      "    print 'Entire file:'\n",
      "    all_data = input_file.read()\n",
      "    print all_data\n",
      "    \n",
      "    expected = all_data[5:15]\n",
      "    \n",
      "    # rewind to beginning\n",
      "    input_file.seek(0)\n",
      "    \n",
      "    # move ahead 5 bytes\n",
      "    input_file.seek(5)\n",
      "    print 'Starting at position 5 for 10 bytes:'\n",
      "    partial = input_file.read(10)\n",
      "    print partial\n",
      "    \n",
      "    print\n",
      "    print expected == partial\n",
      "finally:\n",
      "    input_file.close()"
     ],
     "language": "python",
     "metadata": {},
     "outputs": [
      {
       "output_type": "stream",
       "stream": "stdout",
       "text": [
        "Entire file:\n"
       ]
      },
      {
       "ename": "MemoryError",
       "evalue": "",
       "output_type": "pyerr",
       "traceback": [
        "\u001b[1;31m---------------------------------------------------------------------------\u001b[0m\n\u001b[1;31mMemoryError\u001b[0m                               Traceback (most recent call last)",
        "\u001b[1;32m<ipython-input-12-c5fb82153de0>\u001b[0m in \u001b[0;36m<module>\u001b[1;34m()\u001b[0m\n\u001b[0;32m      5\u001b[0m     \u001b[1;32mprint\u001b[0m \u001b[1;34m'Entire file:'\u001b[0m\u001b[1;33m\u001b[0m\u001b[0m\n\u001b[0;32m      6\u001b[0m     \u001b[0mall_data\u001b[0m \u001b[1;33m=\u001b[0m \u001b[0minput_file\u001b[0m\u001b[1;33m.\u001b[0m\u001b[0mread\u001b[0m\u001b[1;33m(\u001b[0m\u001b[1;33m)\u001b[0m\u001b[1;33m\u001b[0m\u001b[0m\n\u001b[1;32m----> 7\u001b[1;33m     \u001b[1;32mprint\u001b[0m \u001b[0mall_data\u001b[0m\u001b[1;33m\u001b[0m\u001b[0m\n\u001b[0m\u001b[0;32m      8\u001b[0m \u001b[1;33m\u001b[0m\u001b[0m\n\u001b[0;32m      9\u001b[0m     \u001b[0mexpected\u001b[0m \u001b[1;33m=\u001b[0m \u001b[0mall_data\u001b[0m\u001b[1;33m[\u001b[0m\u001b[1;36m5\u001b[0m\u001b[1;33m:\u001b[0m\u001b[1;36m15\u001b[0m\u001b[1;33m]\u001b[0m\u001b[1;33m\u001b[0m\u001b[0m\n",
        "\u001b[1;32mc:\\Python27\\lib\\site-packages\\IPython\\kernel\\zmq\\iostream.pyc\u001b[0m in \u001b[0;36mwrite\u001b[1;34m(self, string)\u001b[0m\n\u001b[0;32m    200\u001b[0m             \u001b[1;31m# Make sure that we're handling unicode\u001b[0m\u001b[1;33m\u001b[0m\u001b[1;33m\u001b[0m\u001b[0m\n\u001b[0;32m    201\u001b[0m             \u001b[1;32mif\u001b[0m \u001b[1;32mnot\u001b[0m \u001b[0misinstance\u001b[0m\u001b[1;33m(\u001b[0m\u001b[0mstring\u001b[0m\u001b[1;33m,\u001b[0m \u001b[0municode_type\u001b[0m\u001b[1;33m)\u001b[0m\u001b[1;33m:\u001b[0m\u001b[1;33m\u001b[0m\u001b[0m\n\u001b[1;32m--> 202\u001b[1;33m                 \u001b[0mstring\u001b[0m \u001b[1;33m=\u001b[0m \u001b[0mstring\u001b[0m\u001b[1;33m.\u001b[0m\u001b[0mdecode\u001b[0m\u001b[1;33m(\u001b[0m\u001b[0mself\u001b[0m\u001b[1;33m.\u001b[0m\u001b[0mencoding\u001b[0m\u001b[1;33m,\u001b[0m \u001b[1;34m'replace'\u001b[0m\u001b[1;33m)\u001b[0m\u001b[1;33m\u001b[0m\u001b[0m\n\u001b[0m\u001b[0;32m    203\u001b[0m \u001b[1;33m\u001b[0m\u001b[0m\n\u001b[0;32m    204\u001b[0m             \u001b[0mis_child\u001b[0m \u001b[1;33m=\u001b[0m \u001b[1;33m(\u001b[0m\u001b[0mself\u001b[0m\u001b[1;33m.\u001b[0m\u001b[0m_check_mp_mode\u001b[0m\u001b[1;33m(\u001b[0m\u001b[1;33m)\u001b[0m \u001b[1;33m==\u001b[0m \u001b[0mCHILD\u001b[0m\u001b[1;33m)\u001b[0m\u001b[1;33m\u001b[0m\u001b[0m\n",
        "\u001b[1;32mc:\\Python27\\lib\\encodings\\utf_8.pyc\u001b[0m in \u001b[0;36mdecode\u001b[1;34m(input, errors)\u001b[0m\n\u001b[0;32m     14\u001b[0m \u001b[1;33m\u001b[0m\u001b[0m\n\u001b[0;32m     15\u001b[0m \u001b[1;32mdef\u001b[0m \u001b[0mdecode\u001b[0m\u001b[1;33m(\u001b[0m\u001b[0minput\u001b[0m\u001b[1;33m,\u001b[0m \u001b[0merrors\u001b[0m\u001b[1;33m=\u001b[0m\u001b[1;34m'strict'\u001b[0m\u001b[1;33m)\u001b[0m\u001b[1;33m:\u001b[0m\u001b[1;33m\u001b[0m\u001b[0m\n\u001b[1;32m---> 16\u001b[1;33m     \u001b[1;32mreturn\u001b[0m \u001b[0mcodecs\u001b[0m\u001b[1;33m.\u001b[0m\u001b[0mutf_8_decode\u001b[0m\u001b[1;33m(\u001b[0m\u001b[0minput\u001b[0m\u001b[1;33m,\u001b[0m \u001b[0merrors\u001b[0m\u001b[1;33m,\u001b[0m \u001b[0mTrue\u001b[0m\u001b[1;33m)\u001b[0m\u001b[1;33m\u001b[0m\u001b[0m\n\u001b[0m\u001b[0;32m     17\u001b[0m \u001b[1;33m\u001b[0m\u001b[0m\n\u001b[0;32m     18\u001b[0m \u001b[1;32mclass\u001b[0m \u001b[0mIncrementalEncoder\u001b[0m\u001b[1;33m(\u001b[0m\u001b[0mcodecs\u001b[0m\u001b[1;33m.\u001b[0m\u001b[0mIncrementalEncoder\u001b[0m\u001b[1;33m)\u001b[0m\u001b[1;33m:\u001b[0m\u001b[1;33m\u001b[0m\u001b[0m\n",
        "\u001b[1;31mMemoryError\u001b[0m: "
       ]
      }
     ],
     "prompt_number": 12
    },
    {
     "cell_type": "code",
     "collapsed": false,
     "input": [],
     "language": "python",
     "metadata": {},
     "outputs": []
    },
    {
     "cell_type": "code",
     "collapsed": false,
     "input": [],
     "language": "python",
     "metadata": {},
     "outputs": []
    },
    {
     "cell_type": "code",
     "collapsed": false,
     "input": [],
     "language": "python",
     "metadata": {},
     "outputs": []
    },
    {
     "cell_type": "markdown",
     "metadata": {},
     "source": [
      "<em>CSS Style</em>\n",
      "\n",
      "\n",
      "<style type=\"text/css\">\n",
      "    \n",
      "    .rendered_html ol {list-style:decimal; margin: 1em 2em;}\n",
      "    \n",
      "    div.input{\n",
      "    width: 120ex;\n",
      "    }\n",
      "    \n",
      "    div.text_cell{\n",
      "    width: 120ex;\n",
      "    }\n",
      "    \n",
      "    div.text_cell_render{\n",
      "    font-family: \"Charis SIL\",serif;\n",
      "    line-height: 145%;\n",
      "    width: 125ex;\n",
      "    margin-left:2.1cm;\n",
      "    }\n",
      "\n",
      "    div.text_cell_render h1 {\n",
      "    font-size: 18pt;\n",
      "    }\n",
      "\n",
      "    div.text_cell_render h2 {\n",
      "    font-size: 14pt;\n",
      "    }\n",
      "\n",
      "    .CodeMirror {\n",
      "    font-family: Consolas, monospace;\n",
      "    }\n",
      "\n",
      "</style>\n",
      "\n",
      "\n",
      "<style type=\"text/css\">\n",
      "    table {\n",
      "\toverflow:hidden;\n",
      "    font-family: \"Lucida Sans Unicode\", \"Lucida Grande\", Sans-Serif;\n",
      "\tfont-size: 12px;\n",
      "\tmargin: 45px;\n",
      "\twidth: 480px;\n",
      "\ttext-align: left;\n",
      "\tborder-collapse: collapse;\n",
      "\tborder: 1px solid #d3d3d3;\n",
      "    -moz-border-radius:5px; FF1+;\n",
      "    -webkit-border-radius:5px; Saf3-4;\n",
      "    border-radius:5px;\n",
      "    -moz-box-shadow: 0 0 4px rgba(0, 0, 0, 0.01);    \n",
      "}\n",
      "th\n",
      "{\n",
      "\tpadding: 12px 17px 12px 17px;\n",
      "\tfont-weight: normal;\n",
      "\tfont-size: 14px;\n",
      "\tborder-bottom: 1px dashed #69c;\n",
      "}\n",
      "\n",
      "td\n",
      "{\n",
      "\tpadding: 7px 17px 7px 17px;\n",
      "\n",
      "}\n",
      "\n",
      "tbody tr:hover th\n",
      "{\n",
      "\n",
      "\tbackground:  #E9E9E9;\n",
      "}\n",
      "\n",
      "tbody tr:hover td\n",
      "{\n",
      "\n",
      "\tbackground:  #E9E9E9;\n",
      "}\n",
      "</style>"
     ]
    }
   ],
   "metadata": {}
  }
 ]
}